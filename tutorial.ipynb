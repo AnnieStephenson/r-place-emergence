{
 "cells": [
  {
   "cell_type": "markdown",
   "metadata": {},
   "source": [
    "# Tutorial file for the r-place-emergence package"
   ]
  },
  {
   "cell_type": "markdown",
   "metadata": {},
   "source": [
    "#### Imports"
   ]
  },
  {
   "cell_type": "code",
   "execution_count": 1,
   "metadata": {},
   "outputs": [],
   "source": [
    "import sys\n",
    "import numpy as np\n",
    "import matplotlib.pyplot as plt\n",
    "import pickle\n",
    "import os\n",
    "import seaborn as sns\n",
    "import json\n",
    "\n",
    "import rplacem.canvas_part as cp\n",
    "import rplacem.canvas_part_statistics as cpst\n",
    "import rplacem.compute_variables as compute\n",
    "import rplacem.variables_rplace2022 as var\n",
    "import rplacem.utilities as util\n",
    "import rplacem.plot_utilities as plot"
   ]
  },
  {
   "cell_type": "markdown",
   "metadata": {},
   "source": [
    "### Choose an index from the atlas.json file to identify a composition of interest\n",
    "\n",
    "The r/place [atlas](https://place-atlas.stefanocoding.me/about)\n",
    "\"is an atlas aiming to chart all the artworks created during the r/place April Fools event on Reddit in 2022. It is made with information to each artwork of the canvas provided by the community. The original code was developed by Roland Rytz and is available under the free AGPL license on GitHub. The currently maintained version of the website is managed by Stefano Haagmans and is obtainable under the same license within a [GitHub fork](https://github.com/placeAtlas/atlas). Initial images are provided by Alex Tsernoh.\"\n",
    "\n",
    "Each \"artwork\" or as we call it here, \"composition\", is indexed according to a string of numbers, found in the atlas.json file. Here, we choose one arbitrarily for demonstration"
   ]
  },
  {
   "cell_type": "code",
   "execution_count": 2,
   "metadata": {},
   "outputs": [],
   "source": [
    "atlas_id_index = '000006'#"
   ]
  },
  {
   "cell_type": "markdown",
   "metadata": {},
   "source": [
    "### Load all the pixel data from the npz file\n",
    "\n",
    "Next, we load all the pixel change data from the npz file. This npz file is a condensed, time-sorted version of the 79 data files provided by reddit from the 2022 r/place experiment. The get_all_pixel_changes() function loads this data and places it into an array with 6 columns"
   ]
  },
  {
   "cell_type": "code",
   "execution_count": 3,
   "metadata": {},
   "outputs": [],
   "source": [
    "pixel_changes_all = util.get_all_pixel_changes()"
   ]
  },
  {
   "cell_type": "markdown",
   "metadata": {},
   "source": [
    "Print the columns of the pixel_changes_all array for reference"
   ]
  },
  {
   "cell_type": "code",
   "execution_count": 4,
   "metadata": {},
   "outputs": [
    {
     "name": "stdout",
     "output_type": "stream",
     "text": [
      "  seconds: [3.15000000e-01 1.26710000e+01 1.66260000e+01 ... 3.00590172e+05\n",
      " 3.00590195e+05 3.00590207e+05]\n",
      "  x coord: [  42  999   44 ...  770 1046    0]\n",
      "  y coord: [  42  999   42 ...  866 1721 1999]\n",
      "  user id: [4068945 4068946 4068947 ... 2778754 1591567  583562]\n",
      " color id: [16  7 10 ... 31 31 31]\n",
      "mod event: [False False False ... False False False]\n"
     ]
    }
   ],
   "source": [
    "print('  seconds: ' + str(pixel_changes_all['seconds']))\n",
    "print('  x coord: ' + str(pixel_changes_all['xcoor']))\n",
    "print('  y coord: ' + str(pixel_changes_all['ycoor']))\n",
    "print('  user id: ' + str(pixel_changes_all['user']))\n",
    "print(' color id: ' + str(pixel_changes_all['color']))\n",
    "print('mod event: ' + str(pixel_changes_all['moderator']))"
   ]
  },
  {
   "cell_type": "markdown",
   "metadata": {},
   "source": [
    "### Define two types of CanvasPart objects\n",
    "\n",
    "The CanvasPart class is a superclass with subclasses CanvasComposition and CanvasArea. You can think of a CanvasPart as a part of the canvas defined by a spatial border, which can be either defined by the edge of a particular artwork composition as defined by the r/place Atlas or it can be defined by an arbitrary user-defined border path, which can take any shape. The maximum size of a user-defined border is the size of the canvas itself. "
   ]
  },
  {
   "cell_type": "markdown",
   "metadata": {},
   "source": [
    "##### Define a CanvasCompsition object\n",
    "\n",
    "To define a CanvasComposition object, you must supply the atlas composition id index and the pixel change data loaded from the npz file. The constructor then finds and sets the border path, the x and y coordinates inside the border, and the pixel changes within the border of the composition. "
   ]
  },
  {
   "cell_type": "code",
   "execution_count": 5,
   "metadata": {},
   "outputs": [],
   "source": [
    "atlas, atlas_size = util.load_atlas()"
   ]
  },
  {
   "cell_type": "code",
   "execution_count": 6,
   "metadata": {},
   "outputs": [
    {
     "name": "stdout",
     "output_type": "stream",
     "text": [
      "set border path (with _get_atlas_border() if composition)\n",
      "set coordinates (with _get_bounded_coords() if is not rectangle)\n",
      "_reject_off_times()\n",
      "set pixel changes with _find_pixel_changes_in_boundary()\n",
      "    find pixels inside boundary\n",
      "    sort pixel_changes vs coordinates\n",
      "    determine if the pixel change is in the active timerange\n",
      "    make pixel_changes output\n",
      "    find redundant pixel changes\n",
      "    find changes with cheated cooldown\n",
      "_set_has_loc_jump()\n"
     ]
    }
   ],
   "source": [
    "canvas_comp = cp.CanvasPart(id = atlas_id_index, atlas = atlas, verbose = True)"
   ]
  },
  {
   "cell_type": "code",
   "execution_count": 7,
   "metadata": {},
   "outputs": [
    {
     "name": "stdout",
     "output_type": "stream",
     "text": [
      "         397 function calls (383 primitive calls) in 1.011 seconds\n",
      "\n",
      "   Ordered by: cumulative time\n",
      "\n",
      "   ncalls  tottime  percall  cumtime  percall filename:lineno(function)\n",
      "        1    0.000    0.000    1.011    1.011 {built-in method builtins.exec}\n",
      "        1    0.000    0.000    1.011    1.011 <string>:1(<module>)\n",
      "        1    0.000    0.000    1.011    1.011 canvas_part.py:98(__init__)\n",
      "        1    0.578    0.578    1.010    1.010 canvas_part.py:346(_find_pixel_changes_in_boundary)\n",
      "        5    0.342    0.068    0.342    0.068 {method 'argsort' of 'numpy.ndarray' objects}\n",
      "        1    0.015    0.015    0.245    0.245 canvas_part.py:432(_find_cheated_pix_change)\n",
      "    41/27    0.064    0.002    0.185    0.007 {built-in method numpy.core._multiarray_umath.implement_array_function}\n",
      "        7    0.000    0.000    0.121    0.017 fromnumeric.py:51(_wrapfunc)\n",
      "        1    0.001    0.001    0.114    0.114 canvas_part.py:456(_find_redundant_pix_change)\n",
      "        2    0.000    0.000    0.113    0.056 <__array_function__ internals>:177(argsort)\n",
      "        2    0.000    0.000    0.113    0.056 fromnumeric.py:1012(argsort)\n",
      "        7    0.000    0.000    0.064    0.009 <__array_function__ internals>:177(where)\n",
      "        1    0.000    0.000    0.008    0.008 <__array_function__ internals>:177(searchsorted)\n",
      "        1    0.000    0.000    0.008    0.008 fromnumeric.py:1319(searchsorted)\n",
      "        1    0.008    0.008    0.008    0.008 {method 'searchsorted' of 'numpy.ndarray' objects}\n",
      "        5    0.000    0.000    0.001    0.000 <__array_function__ internals>:177(diff)\n",
      "        5    0.000    0.000    0.000    0.000 function_base.py:1295(diff)\n",
      "       13    0.000    0.000    0.000    0.000 {built-in method numpy.array}\n",
      "        3    0.000    0.000    0.000    0.000 {method 'astype' of 'numpy.ndarray' objects}\n",
      "        6    0.000    0.000    0.000    0.000 {built-in method numpy.zeros}\n",
      "        1    0.000    0.000    0.000    0.000 index_tricks.py:148(__getitem__)\n",
      "        1    0.000    0.000    0.000    0.000 numeric.py:1680(indices)\n",
      "        3    0.000    0.000    0.000    0.000 <__array_function__ internals>:177(hstack)\n",
      "        1    0.000    0.000    0.000    0.000 canvas_part.py:482(_set_has_loc_jump)\n",
      "        3    0.000    0.000    0.000    0.000 shape_base.py:285(hstack)\n",
      "        3    0.000    0.000    0.000    0.000 <__array_function__ internals>:177(concatenate)\n",
      "        1    0.000    0.000    0.000    0.000 canvas_part.py:316(_reject_off_times)\n",
      "        1    0.000    0.000    0.000    0.000 <__array_function__ internals>:177(allclose)\n",
      "        1    0.000    0.000    0.000    0.000 numeric.py:2180(allclose)\n",
      "        1    0.000    0.000    0.000    0.000 <__array_function__ internals>:177(isclose)\n",
      "        1    0.000    0.000    0.000    0.000 numeric.py:2259(isclose)\n",
      "        1    0.000    0.000    0.000    0.000 <__array_function__ internals>:177(unique)\n",
      "        1    0.000    0.000    0.000    0.000 arraysetops.py:138(unique)\n",
      "        1    0.000    0.000    0.000    0.000 arraysetops.py:320(_unique1d)\n",
      "        2    0.000    0.000    0.000    0.000 numeric.py:289(full)\n",
      "        1    0.000    0.000    0.000    0.000 canvas_part.py:206(_get_atlas_border)\n",
      "        3    0.000    0.000    0.000    0.000 <__array_function__ internals>:177(atleast_1d)\n",
      "        2    0.000    0.000    0.000    0.000 <__array_function__ internals>:177(copyto)\n",
      "        1    0.000    0.000    0.000    0.000 numeric.py:2340(within_tol)\n",
      "        2    0.000    0.000    0.000    0.000 <__array_function__ internals>:177(isin)\n",
      "        3    0.000    0.000    0.000    0.000 <__array_function__ internals>:177(all)\n",
      "        7    0.000    0.000    0.000    0.000 {method 'reduce' of 'numpy.ufunc' objects}\n",
      "        3    0.000    0.000    0.000    0.000 shape_base.py:23(atleast_1d)\n",
      "        2    0.000    0.000    0.000    0.000 arraysetops.py:640(isin)\n",
      "        3    0.000    0.000    0.000    0.000 fromnumeric.py:2404(all)\n",
      "        2    0.000    0.000    0.000    0.000 <__array_function__ internals>:177(nonzero)\n",
      "        2    0.000    0.000    0.000    0.000 _internal.py:395(_newnames)\n",
      "        3    0.000    0.000    0.000    0.000 fromnumeric.py:69(_wrapreduction)\n",
      "        8    0.000    0.000    0.000    0.000 {method 'reshape' of 'numpy.ndarray' objects}\n",
      "        2    0.000    0.000    0.000    0.000 <__array_function__ internals>:177(in1d)\n",
      "        2    0.000    0.000    0.000    0.000 fromnumeric.py:1866(nonzero)\n",
      "        2    0.000    0.000    0.000    0.000 {built-in method numpy.arange}\n",
      "        1    0.000    0.000    0.000    0.000 <__array_function__ internals>:177(cumsum)\n",
      "        2    0.000    0.000    0.000    0.000 arraysetops.py:519(in1d)\n",
      "        1    0.000    0.000    0.000    0.000 fromnumeric.py:2495(cumsum)\n",
      "        2    0.000    0.000    0.000    0.000 {method 'nonzero' of 'numpy.ndarray' objects}\n",
      "        2    0.000    0.000    0.000    0.000 {method 'min' of 'numpy.ndarray' objects}\n",
      "        2    0.000    0.000    0.000    0.000 _ufunc_config.py:32(seterr)\n",
      "        1    0.000    0.000    0.000    0.000 {method 'cumsum' of 'numpy.ndarray' objects}\n",
      "       16    0.000    0.000    0.000    0.000 {built-in method numpy.asanyarray}\n",
      "        3    0.000    0.000    0.000    0.000 shape_base.py:218(_vhstack_dispatcher)\n",
      "        2    0.000    0.000    0.000    0.000 _methods.py:42(_amin)\n",
      "        1    0.000    0.000    0.000    0.000 _ufunc_config.py:429(__enter__)\n",
      "        5    0.000    0.000    0.000    0.000 {built-in method numpy.empty}\n",
      "        3    0.000    0.000    0.000    0.000 shape_base.py:207(_arrays_for_stack_dispatcher)\n",
      "        7    0.000    0.000    0.000    0.000 multiarray.py:341(where)\n",
      "       36    0.000    0.000    0.000    0.000 {built-in method builtins.len}\n",
      "        1    0.000    0.000    0.000    0.000 canvas_part.py:194(_set_is_rectangle)\n",
      "        2    0.000    0.000    0.000    0.000 {method 'flatten' of 'numpy.ndarray' objects}\n",
      "        1    0.000    0.000    0.000    0.000 utilities.py:69(equalize_list_sublengths)\n",
      "        2    0.000    0.000    0.000    0.000 {method 'max' of 'numpy.ndarray' objects}\n",
      "       17    0.000    0.000    0.000    0.000 {built-in method builtins.isinstance}\n",
      "        7    0.000    0.000    0.000    0.000 {built-in method builtins.getattr}\n",
      "        2    0.000    0.000    0.000    0.000 _methods.py:38(_amax)\n",
      "        2    0.000    0.000    0.000    0.000 _ufunc_config.py:131(geterr)\n",
      "        5    0.000    0.000    0.000    0.000 {built-in method numpy.core._multiarray_umath.normalize_axis_index}\n",
      "        1    0.000    0.000    0.000    0.000 _ufunc_config.py:434(__exit__)\n",
      "        1    0.000    0.000    0.000    0.000 <__array_function__ internals>:177(result_type)\n",
      "        1    0.000    0.000    0.000    0.000 <__array_function__ internals>:177(reshape)\n",
      "       17    0.000    0.000    0.000    0.000 {method 'append' of 'list' objects}\n",
      "       10    0.000    0.000    0.000    0.000 {built-in method numpy.asarray}\n",
      "        3    0.000    0.000    0.000    0.000 {built-in method builtins.hasattr}\n",
      "        2    0.000    0.000    0.000    0.000 {built-in method builtins.max}\n",
      "        1    0.000    0.000    0.000    0.000 fromnumeric.py:198(reshape)\n",
      "        1    0.000    0.000    0.000    0.000 {method 'disable' of '_lsprof.Profiler' objects}\n",
      "        2    0.000    0.000    0.000    0.000 {built-in method math.ceil}\n",
      "        2    0.000    0.000    0.000    0.000 {built-in method builtins.abs}\n",
      "        5    0.000    0.000    0.000    0.000 function_base.py:1291(_diff_dispatcher)\n",
      "        2    0.000    0.000    0.000    0.000 {built-in method numpy.seterrobj}\n",
      "        3    0.000    0.000    0.000    0.000 fromnumeric.py:70(<dictcomp>)\n",
      "        2    0.000    0.000    0.000    0.000 {method 'remove' of 'list' objects}\n",
      "        4    0.000    0.000    0.000    0.000 {method 'ravel' of 'numpy.ndarray' objects}\n",
      "        4    0.000    0.000    0.000    0.000 {built-in method numpy.geterrobj}\n",
      "        2    0.000    0.000    0.000    0.000 {method 'add' of 'set' objects}\n",
      "        4    0.000    0.000    0.000    0.000 {method 'items' of 'dict' objects}\n",
      "        2    0.000    0.000    0.000    0.000 utilities.py:71(<genexpr>)\n",
      "        2    0.000    0.000    0.000    0.000 fromnumeric.py:1008(_argsort_dispatcher)\n",
      "        1    0.000    0.000    0.000    0.000 _ufunc_config.py:425(__init__)\n",
      "        1    0.000    0.000    0.000    0.000 arraysetops.py:125(_unpack_tuple)\n",
      "        3    0.000    0.000    0.000    0.000 fromnumeric.py:2399(_all_dispatcher)\n",
      "        2    0.000    0.000    0.000    0.000 {method 'split' of 'str' objects}\n",
      "        3    0.000    0.000    0.000    0.000 shape_base.py:19(_atleast_1d_dispatcher)\n",
      "        3    0.000    0.000    0.000    0.000 multiarray.py:148(concatenate)\n",
      "        2    0.000    0.000    0.000    0.000 fromnumeric.py:1862(_nonzero_dispatcher)\n",
      "        2    0.000    0.000    0.000    0.000 arraysetops.py:515(_in1d_dispatcher)\n",
      "        2    0.000    0.000    0.000    0.000 multiarray.py:1071(copyto)\n",
      "        2    0.000    0.000    0.000    0.000 arraysetops.py:636(_isin_dispatcher)\n",
      "        1    0.000    0.000    0.000    0.000 fromnumeric.py:1315(_searchsorted_dispatcher)\n",
      "        1    0.000    0.000    0.000    0.000 arraysetops.py:133(_unique_dispatcher)\n",
      "        1    0.000    0.000    0.000    0.000 numeric.py:2176(_allclose_dispatcher)\n",
      "        1    0.000    0.000    0.000    0.000 fromnumeric.py:2491(_cumsum_dispatcher)\n",
      "        1    0.000    0.000    0.000    0.000 numeric.py:2255(_isclose_dispatcher)\n",
      "        1    0.000    0.000    0.000    0.000 fromnumeric.py:193(_reshape_dispatcher)\n",
      "        1    0.000    0.000    0.000    0.000 multiarray.py:664(result_type)\n",
      "\n",
      "\n"
     ]
    }
   ],
   "source": [
    "util.check_time('cp.CanvasPart(id=atlas_id_index, pixel_changes_all=pixel_changes_all, atlas=atlas)')\n",
    "# getting rid of ind for loop: 0.892 vs 1.632"
   ]
  },
  {
   "cell_type": "code",
   "execution_count": 8,
   "metadata": {
    "scrolled": true
   },
   "outputs": [
    {
     "name": "stdout",
     "output_type": "stream",
     "text": [
      "CanvasPart \n",
      "Atlas Composition, id: 000006,         \n",
      "Rectangle, 1 time-dependent border_path(s)\n",
      "2989 pixels in total, x in [912, 960], y in [421, 481]        \n",
      "117120 pixel changes (including 117120 in composition time ranges)        \n",
      "\n",
      "Description: \n",
      "2builders2tools (2b2t) is the second-oldest running multiplayer server for the game Minecraft. It uses an anarchy format, meaning there are minimal rules in place for players.\n",
      "\n",
      "The 2b2t logo was one of the first factions to form, with pixels being placed within the first few seconds. Though many groups and streamers tried to attack or replace it through many means, 2b2t prevailed. \n",
      "\n",
      "Pixel changes: \n",
      "[(  1226.869,    0,  1159668, 16,  True, False, False, False, False)\n",
      " (  1231.68 ,   61,  3054718, 16,  True, False, False, False, False)\n",
      " (  1251.755,  122,  2720365, 16,  True, False, False, False, False) ...\n",
      " (300511.144, 2319, 10380382, 31,  True, False, False,  True, False)\n",
      " (300553.777, 2263,   521579, 31,  True, False, False,  True, False)\n",
      " (300558.739, 1456,  8959978, 31,  True, False, False,  True, False)]        \n",
      "\n"
     ]
    }
   ],
   "source": [
    "print(canvas_comp.__str__())"
   ]
  },
  {
   "cell_type": "markdown",
   "metadata": {},
   "source": [
    "##### Define a CanvasArea object\n",
    "To define a CanvasArea object, you must supply the border path and the pixel changes from the npz file. \n",
    "The border path is a numpy array of x,y points that form the path of the border of the canvas"
   ]
  },
  {
   "cell_type": "code",
   "execution_count": 9,
   "metadata": {},
   "outputs": [],
   "source": [
    "border_path = [[[0,0],[0,10],[10,10],[10,0]]]\n",
    "canvas_area = cp.CanvasPart(border_path=border_path, pixel_changes_all=pixel_changes_all)\n",
    "canvas_area.description = 'The top left 100 pixels'"
   ]
  },
  {
   "cell_type": "code",
   "execution_count": 10,
   "metadata": {},
   "outputs": [
    {
     "name": "stdout",
     "output_type": "stream",
     "text": [
      "CanvasPart \n",
      "user-defined area, name: rectangle_0.0_to_10.10,         \n",
      "Rectangle, 1 time-dependent border_path(s)\n",
      "121 pixels in total, x in [0, 10], y in [0, 10]        \n",
      "197538 pixel changes (including 197538 in composition time ranges)        \n",
      "\n",
      "Description: \n",
      "The top left 100 pixels \n",
      "\n",
      "Pixel changes: \n",
      "[(2.17030000e+01, 24, 4068948, 22,  True, False, False, False, False)\n",
      " (1.69534000e+02,  0, 4068955, 27,  True, False, False, False, False)\n",
      " (4.90058000e+02, 12, 4068959, 25,  True, False, False, False, False) ...\n",
      " (3.00589027e+05,  0, 1256236, 31,  True, False, False,  True, False)\n",
      " (3.00589360e+05,  1,  364556, 31,  True, False, False,  True, False)\n",
      " (3.00589387e+05,  0, 1295679, 31,  True, False, False,  True, False)]        \n",
      "\n"
     ]
    }
   ],
   "source": [
    "print(canvas_area)"
   ]
  },
  {
   "cell_type": "markdown",
   "metadata": {},
   "source": [
    "## Define a CanvasPartStatistics object"
   ]
  },
  {
   "cell_type": "code",
   "execution_count": 11,
   "metadata": {},
   "outputs": [
    {
     "name": "stderr",
     "output_type": "stream",
     "text": [
      "/Users/annie/Code/Repositories/r-place-emergence/rplacem/fractal_dim.py:117: RuntimeWarning: divide by zero encountered in log\n",
      "  log_num_box = np.log(num_boxes_rshp)\n"
     ]
    },
    {
     "name": "stdout",
     "output_type": "stream",
     "text": [
      "         39195850 function calls (39174728 primitive calls) in 35.781 seconds\n",
      "\n",
      "   Ordered by: cumulative time\n",
      "\n",
      "   ncalls  tottime  percall  cumtime  percall filename:lineno(function)\n",
      "        1    0.000    0.000   35.781   35.781 {built-in method builtins.exec}\n",
      "        1    0.000    0.000   35.781   35.781 <string>:1(<module>)\n",
      "        1    0.000    0.000   35.781   35.781 canvas_part_statistics.py:263(__init__)\n",
      "        1    0.462    0.462   35.485   35.485 compute_variables.py:215(main_variables)\n",
      "     1002    1.513    0.002   28.719    0.029 entropy.py:22(calc_compressed_size)\n",
      "  2994978   16.530    0.000   26.569    0.000 hilbertcurve.py:201(distance_from_point)\n",
      "  2994978    2.953    0.000    9.452    0.000 hilbertcurve.py:100(_transpose_to_hilbert_integer)\n",
      "411613/390494    1.834    0.000    4.456    0.000 {built-in method numpy.core._multiarray_umath.implement_array_function}\n",
      "        1    0.000    0.000    3.824    3.824 fractal_dim.py:174(calc_from_image)\n",
      "  2994978    1.121    0.000    3.753    0.000 hilbertcurve.py:110(<listcomp>)\n",
      "        1    0.829    0.829    3.430    3.430 fractal_dim.py:70(count_num_box_touch)\n",
      "  5989956    1.246    0.000    2.632    0.000 hilbertcurve.py:21(_binary_repr)\n",
      "  2994978    2.355    0.000    2.355    0.000 hilbertcurve.py:111(<listcomp>)\n",
      "   196630    0.072    0.000    1.817    0.000 <__array_function__ internals>:177(where)\n",
      "   166493    0.054    0.000    1.161    0.000 <__array_function__ internals>:177(unique)\n",
      "   166493    0.106    0.000    1.027    0.000 arraysetops.py:138(unique)\n",
      "  5989956    0.923    0.000    0.923    0.000 {built-in method builtins.format}\n",
      "   166493    0.550    0.000    0.865    0.000 arraysetops.py:320(_unique1d)\n",
      "     2052    0.003    0.000    0.678    0.000 compute_variables.py:178(calc_stable_cols)\n",
      "     2053    0.002    0.000    0.652    0.000 <__array_function__ internals>:177(argsort)\n",
      "     5093    0.003    0.000    0.650    0.000 fromnumeric.py:51(_wrapfunc)\n",
      "     2053    0.002    0.000    0.648    0.000 fromnumeric.py:1012(argsort)\n",
      "     2054    0.644    0.000    0.644    0.000 {method 'argsort' of 'numpy.ndarray' objects}\n",
      "     1002    0.626    0.001    0.626    0.001 {built-in method sweetsourcod.lempel_ziv.lempel_ziv_complexity}\n",
      "  2994978    0.586    0.000    0.586    0.000 hilbertcurve.py:211(<listcomp>)\n",
      "     1002    0.202    0.000    0.584    0.001 compute_variables.py:197(calc_stable_timefrac)\n",
      "     1002    0.444    0.000    0.482    0.000 compute_variables.py:105(calc_time_spent_in_color)\n",
      "  5989956    0.462    0.000    0.462    0.000 {method 'zfill' of 'str' objects}\n",
      "   169499    0.419    0.000    0.419    0.000 {method 'sort' of 'numpy.ndarray' objects}\n",
      "  2994978    0.392    0.000    0.392    0.000 {method 'join' of 'str' objects}\n",
      "        1    0.089    0.089    0.386    0.386 fractal_dim.py:125(get_dom_colors)\n",
      "     1004    0.001    0.000    0.381    0.000 <__array_function__ internals>:177(take_along_axis)\n",
      "     1004    0.361    0.000    0.380    0.000 shape_base.py:56(take_along_axis)\n",
      "        1    0.011    0.011    0.292    0.292 canvas_part_statistics.py:461(returntime_stats)\n",
      "     1002    0.013    0.000    0.271    0.000 compute_variables.py:162(calc_stability)\n",
      "     2004    0.001    0.000    0.251    0.000 <__array_function__ internals>:177(intersect1d)\n",
      "     2004    0.036    0.000    0.247    0.000 arraysetops.py:369(intersect1d)\n",
      "     2006    0.003    0.000    0.143    0.000 function_base.py:3651(_ureduce)\n",
      "     1002    0.054    0.000    0.128    0.000 canvas_part.py:548(intimerange_pixchanges_inds)\n",
      "     1002    0.102    0.000    0.118    0.000 compute_variables.py:146(cumulative_attack_timefrac)\n",
      "     1002    0.000    0.000    0.117    0.000 <__array_function__ internals>:177(percentile)\n",
      "     1002    0.003    0.000    0.115    0.000 function_base.py:3861(percentile)\n",
      "7063/7061    0.115    0.000    0.115    0.000 {built-in method numpy.array}\n",
      "     1002    0.001    0.000    0.104    0.000 <__array_function__ internals>:177(histogram)\n",
      "     1002    0.005    0.000    0.103    0.000 histograms.py:678(histogram)\n",
      "   169510    0.098    0.000    0.098    0.000 {method 'flatten' of 'numpy.ndarray' objects}\n",
      "     1002    0.001    0.000    0.096    0.000 function_base.py:4375(_quantile_unchecked)\n",
      "     1002    0.001    0.000    0.094    0.000 function_base.py:4527(_quantile_ureduce_func)\n",
      "     1002    0.008    0.000    0.091    0.000 function_base.py:4595(_quantile)\n",
      "     1002    0.019    0.000    0.081    0.000 compute_variables.py:561(num_changes_and_users)\n",
      "     1002    0.000    0.000    0.074    0.000 <__array_function__ internals>:177(sort)\n",
      "     1002    0.001    0.000    0.073    0.000 fromnumeric.py:852(sort)\n",
      "   169511    0.055    0.000    0.055    0.000 {built-in method numpy.empty}\n",
      "     1003    0.000    0.000    0.048    0.000 <__array_function__ internals>:177(median)\n",
      "     1003    0.001    0.000    0.047    0.000 function_base.py:3711(median)\n",
      "     1002    0.004    0.000    0.047    0.000 canvas_part.py:557(select_active_pixchanges_inds)\n",
      "     1003    0.004    0.000    0.045    0.000 function_base.py:3801(_median)\n",
      "     2997    0.002    0.000    0.043    0.000 <__array_function__ internals>:177(mean)\n",
      "   166493    0.033    0.000    0.043    0.000 arraysetops.py:125(_unpack_tuple)\n",
      "     2997    0.005    0.000    0.039    0.000 fromnumeric.py:3356(mean)\n",
      "     2005    0.039    0.000    0.039    0.000 {method 'partition' of 'numpy.ndarray' objects}\n",
      "     2997    0.010    0.000    0.034    0.000 _methods.py:162(_mean)\n",
      "    11097    0.029    0.000    0.029    0.000 {method 'reduce' of 'numpy.ufunc' objects}\n",
      "     4041    0.028    0.000    0.028    0.000 {built-in method numpy.zeros}\n",
      "   354054    0.027    0.000    0.027    0.000 {built-in method numpy.asanyarray}\n",
      "     5078    0.007    0.000    0.026    0.000 fromnumeric.py:69(_wrapreduction)\n",
      "   376296    0.024    0.000    0.024    0.000 {built-in method builtins.len}\n",
      "     2052    0.001    0.000    0.023    0.000 <__array_function__ internals>:177(flip)\n",
      "    12027    0.005    0.000    0.023    0.000 <__array_function__ internals>:177(count_nonzero)\n",
      "     1003    0.000    0.000    0.021    0.000 <__array_function__ internals>:177(partition)\n",
      "     2052    0.008    0.000    0.021    0.000 function_base.py:252(flip)\n",
      "     3008    0.002    0.000    0.020    0.000 <__array_function__ internals>:177(copy)\n",
      "     1003    0.001    0.000    0.020    0.000 fromnumeric.py:667(partition)\n",
      "     3015    0.004    0.000    0.020    0.000 numeric.py:289(full)\n",
      "   196630    0.019    0.000    0.019    0.000 multiarray.py:341(where)\n",
      "     1004    0.008    0.000    0.018    0.000 shape_base.py:29(_make_along_axis_idx)\n",
      "     1002    0.007    0.000    0.017    0.000 function_base.py:4560(_get_indexes)\n",
      "     1002    0.004    0.000    0.017    0.000 function_base.py:4396(_quantile_is_valid)\n",
      "     3008    0.001    0.000    0.016    0.000 function_base.py:846(copy)\n",
      "     1008    0.002    0.000    0.015    0.000 canvas_part.py:611(white_image)\n",
      "   166493    0.015    0.000    0.015    0.000 arraysetops.py:133(_unique_dispatcher)\n",
      "     1003    0.004    0.000    0.014    0.000 compute_variables.py:86(initialize_start_time_grid)\n",
      "     6028    0.006    0.000    0.014    0.000 numerictypes.py:356(issubdtype)\n",
      "     2071    0.001    0.000    0.013    0.000 <__array_function__ internals>:177(any)\n",
      "     2006    0.001    0.000    0.013    0.000 <__array_function__ internals>:177(all)\n",
      "     4016    0.002    0.000    0.013    0.000 <__array_function__ internals>:177(concatenate)\n",
      "      991    0.001    0.000    0.012    0.000 <__array_function__ internals>:177(sum)\n",
      "    12027    0.004    0.000    0.012    0.000 numeric.py:425(count_nonzero)\n",
      "     3019    0.002    0.000    0.012    0.000 <__array_function__ internals>:177(copyto)\n",
      "     4071    0.011    0.000    0.011    0.000 {built-in method numpy.arange}\n",
      "     2053    0.008    0.000    0.011    0.000 numeric.py:1341(normalize_axis_tuple)\n",
      "      991    0.002    0.000    0.011    0.000 fromnumeric.py:2160(sum)\n",
      "     4008    0.003    0.000    0.010    0.000 {method 'any' of 'numpy.generic' objects}\n",
      "     1002    0.010    0.000    0.010    0.000 function_base.py:4472(_lerp)\n",
      "     1002    0.003    0.000    0.010    0.000 histograms.py:360(_get_bin_edges)\n",
      "     2006    0.001    0.000    0.010    0.000 fromnumeric.py:2404(all)\n",
      "     2071    0.001    0.000    0.010    0.000 fromnumeric.py:2305(any)\n",
      "     2998    0.008    0.000    0.009    0.000 _methods.py:66(_count_reduce_items)\n",
      "     1002    0.005    0.000    0.009    0.000 canvas_part.py:518(active_coord_inds)\n",
      "     2008    0.008    0.000    0.008    0.000 canvas_part.py:598(width)\n",
      "    12027    0.008    0.000    0.008    0.000 {built-in method numpy.core._multiarray_umath.count_nonzero}\n",
      "    12056    0.005    0.000    0.008    0.000 numerictypes.py:282(issubclass_)\n",
      "     3006    0.001    0.000    0.008    0.000 <__array_function__ internals>:177(take)\n",
      "     1004    0.004    0.000    0.007    0.000 utils.py:1005(_median_nancheck)\n",
      "     4015    0.001    0.000    0.007    0.000 _methods.py:54(_any)\n",
      "        1    0.001    0.001    0.006    0.006 fractal_dim.py:110(calc_fractal_dim)\n",
      "     1002    0.001    0.000    0.006    0.000 histograms.py:454(_search_sorted_inclusive)\n",
      "     2006    0.002    0.000    0.006    0.000 {method 'all' of 'numpy.generic' objects}\n",
      "     1006    0.000    0.000    0.005    0.000 <__array_function__ internals>:177(diff)\n",
      "     3006    0.001    0.000    0.005    0.000 fromnumeric.py:93(take)\n",
      "     1006    0.004    0.000    0.004    0.000 function_base.py:1295(diff)\n",
      "     2008    0.000    0.000    0.004    0.000 _methods.py:60(_all)\n",
      "    24150    0.004    0.000    0.004    0.000 {built-in method builtins.issubclass}\n",
      "     1002    0.001    0.000    0.003    0.000 entropy.py:13(calc_size)\n",
      "     6015    0.003    0.000    0.003    0.000 {built-in method builtins.max}\n",
      "     1002    0.003    0.000    0.003    0.000 hilbertcurve.py:29(__init__)\n",
      "     4011    0.003    0.000    0.003    0.000 {method 'take' of 'numpy.ndarray' objects}\n",
      "     1002    0.003    0.000    0.003    0.000 {method 'format' of 'str' objects}\n",
      "     3011    0.003    0.000    0.003    0.000 {method 'astype' of 'numpy.ndarray' objects}\n",
      "     2004    0.003    0.000    0.003    0.000 {method 'searchsorted' of 'numpy.ndarray' objects}\n",
      "     1002    0.002    0.000    0.002    0.000 function_base.py:4450(_get_gamma)\n",
      "        1    0.000    0.000    0.002    0.002 <__array_function__ internals>:177(polyfit)\n",
      "        1    0.000    0.000    0.002    0.002 polynomial.py:452(polyfit)\n",
      "     2053    0.001    0.000    0.002    0.000 numeric.py:1391(<listcomp>)\n",
      "     5078    0.002    0.000    0.002    0.000 fromnumeric.py:70(<dictcomp>)\n",
      "        1    0.000    0.000    0.002    0.002 <__array_function__ internals>:177(lstsq)\n",
      "        1    0.002    0.002    0.002    0.002 linalg.py:2157(lstsq)\n",
      "        1    0.000    0.000    0.002    0.002 canvas_part.py:582(pixchanges_coords_offset)\n",
      "     2026    0.002    0.000    0.002    0.000 {method 'reshape' of 'numpy.ndarray' objects}\n",
      "     1002    0.002    0.000    0.002    0.000 function_base.py:110(<lambda>)\n",
      "        1    0.002    0.002    0.002    0.002 canvas_part.py:577(pixchanges_coords)\n",
      "        1    0.000    0.000    0.002    0.002 fractal_dim.py:155(calc_fractal_dim_values)\n",
      "     1006    0.002    0.000    0.002    0.000 {method 'copy' of 'numpy.ndarray' objects}\n",
      "     2004    0.001    0.000    0.002    0.000 <__array_function__ internals>:177(ndim)\n",
      "     7106    0.002    0.000    0.002    0.000 {built-in method builtins.isinstance}\n",
      "     1002    0.002    0.000    0.002    0.000 {method 'tobytes' of 'numpy.ndarray' objects}\n",
      "     7062    0.002    0.000    0.002    0.000 {built-in method numpy.core._multiarray_umath.normalize_axis_index}\n",
      "     5060    0.002    0.000    0.002    0.000 {built-in method builtins.hasattr}\n",
      "        1    0.000    0.000    0.002    0.002 warnings.py:96(_showwarnmsg)\n",
      "        1    0.000    0.000    0.002    0.002 warnings.py:20(_showwarnmsg_impl)\n",
      "     8348    0.001    0.000    0.001    0.000 {built-in method builtins.getattr}\n",
      "        1    0.000    0.000    0.001    0.001 canvas_part_statistics.py:476(search_transitions)\n",
      "        1    0.000    0.000    0.001    0.001 warnings.py:117(_formatwarnmsg)\n",
      "        1    0.000    0.000    0.001    0.001 warnings.py:35(_formatwarnmsg_impl)\n",
      "        1    0.000    0.000    0.001    0.001 linecache.py:15(getline)\n",
      "        1    0.000    0.000    0.001    0.001 linecache.py:37(getlines)\n",
      "     1002    0.001    0.000    0.001    0.000 {built-in method math.log2}\n",
      "        1    0.000    0.000    0.001    0.001 linecache.py:82(updatecache)\n",
      "     5014    0.001    0.000    0.001    0.000 {method 'ravel' of 'numpy.ndarray' objects}\n",
      "    12027    0.001    0.000    0.001    0.000 numeric.py:421(_count_nonzero_dispatcher)\n",
      "     3083    0.001    0.000    0.001    0.000 {built-in method numpy.asarray}\n",
      "        1    0.000    0.000    0.001    0.001 tokenize.py:388(open)\n",
      "        1    0.000    0.000    0.001    0.001 transitions.py:137(transition_start_time)\n",
      "     1002    0.001    0.000    0.001    0.000 histograms.py:283(_ravel_and_check_weights)\n",
      "        1    0.000    0.000    0.001    0.001 extras.py:633(median)\n",
      "        1    0.000    0.000    0.001    0.001 extras.py:715(_median)\n",
      "        1    0.000    0.000    0.001    0.001 tokenize.py:295(detect_encoding)\n",
      "     1006    0.001    0.000    0.001    0.000 {built-in method math.ceil}\n",
      "        1    0.000    0.000    0.001    0.001 tokenize.py:319(read_or_stop)\n",
      "        1    0.001    0.001    0.001    0.001 {method 'readline' of '_io.BufferedReader' objects}\n",
      "     4104    0.001    0.000    0.001    0.000 index_tricks.py:758(__getitem__)\n",
      "       10    0.000    0.000    0.001    0.000 minpack.py:46(fsolve)\n",
      "       10    0.000    0.000    0.001    0.000 minpack.py:181(_root_hybr)\n",
      "     3017    0.001    0.000    0.001    0.000 canvas_part.py:607(num_pix)\n",
      "        2    0.000    0.000    0.001    0.000 utilities.py:165(make_dir)\n",
      "        2    0.000    0.000    0.001    0.000 os.py:198(makedirs)\n",
      "       66    0.000    0.000    0.001    0.000 time_series.py:66(__init__)\n",
      "        1    0.000    0.000    0.001    0.001 canvas_part_statistics.py:433(ratios_and_normalizations)\n",
      "     1003    0.001    0.000    0.001    0.000 {method 'ravel' of 'numpy.generic' objects}\n",
      "     5078    0.001    0.000    0.001    0.000 {method 'items' of 'dict' objects}\n",
      "        1    0.000    0.000    0.001    0.001 core.py:6888(sort)\n",
      "        3    0.001    0.000    0.001    0.000 {built-in method posix.stat}\n",
      "        1    0.000    0.000    0.001    0.001 core.py:5580(sort)\n",
      "        2    0.000    0.000    0.001    0.000 genericpath.py:16(exists)\n",
      "       66    0.000    0.000    0.001    0.000 time_series.py:104(exists)\n",
      "     4016    0.001    0.000    0.001    0.000 multiarray.py:148(concatenate)\n",
      "       40    0.000    0.000    0.001    0.000 canvas_part_statistics.py:423(ts_init)\n",
      "     4039    0.001    0.000    0.001    0.000 {method 'append' of 'list' objects}\n",
      "       10    0.000    0.000    0.001    0.000 {built-in method scipy.optimize._minpack._hybrd}\n",
      "       58    0.000    0.000    0.001    0.000 transitions.py:165(<lambda>)\n",
      "        5    0.000    0.000    0.001    0.000 fractal_dim.py:21(get_box_inds)\n",
      "     2053    0.000    0.000    0.000    0.000 {built-in method _operator.index}\n",
      "        3    0.000    0.000    0.000    0.000 core.py:6768(__call__)\n",
      "        3    0.000    0.000    0.000    0.000 core.py:3211(__getitem__)\n",
      "     1004    0.000    0.000    0.000    0.000 core.py:6377(isMaskedArray)\n",
      "       17    0.000    0.000    0.000    0.000 utilities.py:190(divide_treatzero)\n",
      "     3019    0.000    0.000    0.000    0.000 multiarray.py:1071(copyto)\n",
      "     2997    0.000    0.000    0.000    0.000 fromnumeric.py:3351(_mean_dispatcher)\n",
      "        1    0.000    0.000    0.000    0.000 core.py:5217(mean)\n",
      "     3008    0.000    0.000    0.000    0.000 function_base.py:842(_copy_dispatcher)\n",
      "        2    0.000    0.000    0.000    0.000 canvas_part.py:633(minimum_time)\n",
      "     3006    0.000    0.000    0.000    0.000 fromnumeric.py:89(_take_dispatcher)\n",
      "        3    0.000    0.000    0.000    0.000 canvas_part.py:626(set_quarters_coord_inds)\n",
      "     2053    0.000    0.000    0.000    0.000 fromnumeric.py:1008(_argsort_dispatcher)\n",
      "     2004    0.000    0.000    0.000    0.000 arraysetops.py:364(_intersect1d_dispatcher)\n",
      "     2052    0.000    0.000    0.000    0.000 function_base.py:248(_flip_dispatcher)\n",
      "        1    0.000    0.000    0.000    0.000 core.py:2073(masked_equal)\n",
      "     2071    0.000    0.000    0.000    0.000 fromnumeric.py:2300(_any_dispatcher)\n",
      "     2006    0.000    0.000    0.000    0.000 fromnumeric.py:2399(_all_dispatcher)\n",
      "     2004    0.000    0.000    0.000    0.000 fromnumeric.py:3164(ndim)\n",
      "        1    0.000    0.000    0.000    0.000 transitions.py:61(find_transitions)\n",
      "        1    0.000    0.000    0.000    0.000 core.py:5414(argsort)\n",
      "       58    0.000    0.000    0.000    0.000 <__array_function__ internals>:177(interp)\n",
      "     2004    0.000    0.000    0.000    0.000 fromnumeric.py:3160(_ndim_dispatcher)\n",
      "        2    0.000    0.000    0.000    0.000 core.py:5041(sum)\n",
      "     1004    0.000    0.000    0.000    0.000 shape_base.py:52(_take_along_axis_dispatcher)\n",
      "       10    0.000    0.000    0.000    0.000 minpack.py:22(_check_func)\n",
      "     2023    0.000    0.000    0.000    0.000 {method 'get' of 'dict' objects}\n",
      "        5    0.000    0.000    0.000    0.000 core.py:3733(filled)\n",
      "        1    0.000    0.000    0.000    0.000 core.py:1821(masked_where)\n",
      "       58    0.000    0.000    0.000    0.000 function_base.py:1432(interp)\n",
      "        4    0.000    0.000    0.000    0.000 core.py:3435(__setmask__)\n",
      "        2    0.000    0.000    0.000    0.000 core.py:1003(__call__)\n",
      "       13    0.000    0.000    0.000    0.000 core.py:2972(__array_finalize__)\n",
      "      991    0.000    0.000    0.000    0.000 fromnumeric.py:2155(_sum_dispatcher)\n",
      "        5    0.000    0.000    0.000    0.000 <__array_function__ internals>:177(tile)\n",
      "       15    0.000    0.000    0.000    0.000 <__array_function__ internals>:177(repeat)\n",
      "        1    0.000    0.000    0.000    0.000 iostream.py:518(write)\n",
      "     1002    0.000    0.000    0.000    0.000 function_base.py:3856(_percentile_dispatcher)\n",
      "       46    0.000    0.000    0.000    0.000 _ufunc_config.py:32(seterr)\n",
      "     1002    0.000    0.000    0.000    0.000 histograms.py:673(_histogram_dispatcher)\n",
      "        5    0.000    0.000    0.000    0.000 shape_base.py:1171(tile)\n",
      "        1    0.000    0.000    0.000    0.000 core.py:4192(__truediv__)\n",
      "        1    0.000    0.000    0.000    0.000 core.py:1150(__call__)\n",
      "        1    0.000    0.000    0.000    0.000 core.py:3516(mask)\n",
      "       15    0.000    0.000    0.000    0.000 fromnumeric.py:436(repeat)\n",
      "     1006    0.000    0.000    0.000    0.000 function_base.py:1291(_diff_dispatcher)\n",
      "     1003    0.000    0.000    0.000    0.000 fromnumeric.py:663(_partition_dispatcher)\n",
      "        1    0.000    0.000    0.000    0.000 iostream.py:448(_schedule_flush)\n",
      "     1002    0.000    0.000    0.000    0.000 fromnumeric.py:848(_sort_dispatcher)\n",
      "     1003    0.000    0.000    0.000    0.000 function_base.py:3706(_median_dispatcher)\n",
      "     1002    0.000    0.000    0.000    0.000 function_base.py:111(<lambda>)\n",
      "        5    0.000    0.000    0.000    0.000 {method 'sum' of 'numpy.ndarray' objects}\n",
      "        1    0.000    0.000    0.000    0.000 iostream.py:202(schedule)\n",
      "    31/30    0.000    0.000    0.000    0.000 {method 'view' of 'numpy.ndarray' objects}\n",
      "        3    0.000    0.000    0.000    0.000 transitions.py:9(limits_sequence_of_true)\n",
      "        5    0.000    0.000    0.000    0.000 _methods.py:46(_sum)\n",
      "        2    0.000    0.000    0.000    0.000 {built-in method posix.mkdir}\n",
      "       20    0.000    0.000    0.000    0.000 {method 'repeat' of 'numpy.ndarray' objects}\n",
      "       22    0.000    0.000    0.000    0.000 _ufunc_config.py:429(__enter__)\n",
      "        1    0.000    0.000    0.000    0.000 socket.py:545(send)\n",
      "       19    0.000    0.000    0.000    0.000 core.py:2946(_update_from)\n",
      "       10    0.000    0.000    0.000    0.000 <__array_function__ internals>:177(amax)\n",
      "        1    0.000    0.000    0.000    0.000 <__array_function__ internals>:177(isclose)\n",
      "        2    0.000    0.000    0.000    0.000 core.py:4443(count)\n",
      "        1    0.000    0.000    0.000    0.000 numeric.py:2259(isclose)\n",
      "        1    0.000    0.000    0.000    0.000 {method 'readlines' of '_io._IOBase' objects}\n",
      "       10    0.000    0.000    0.000    0.000 fromnumeric.py:2675(amax)\n",
      "       58    0.000    0.000    0.000    0.000 <__array_function__ internals>:177(iscomplexobj)\n",
      "        1    0.000    0.000    0.000    0.000 core.py:4168(__mul__)\n",
      "        1    0.000    0.000    0.000    0.000 {built-in method io.open}\n",
      "       22    0.000    0.000    0.000    0.000 _ufunc_config.py:434(__exit__)\n",
      "        1    0.000    0.000    0.000    0.000 core.py:5964(take)\n",
      "       11    0.000    0.000    0.000    0.000 <__array_function__ internals>:177(argmax)\n",
      "       46    0.000    0.000    0.000    0.000 _ufunc_config.py:131(geterr)\n",
      "       58    0.000    0.000    0.000    0.000 {built-in method numpy.core._multiarray_umath.interp}\n",
      "       11    0.000    0.000    0.000    0.000 fromnumeric.py:1127(argmax)\n",
      "        1    0.000    0.000    0.000    0.000 core.py:842(__call__)\n",
      "        1    0.000    0.000    0.000    0.000 canvas_part_statistics.py:414(checks_warnings)\n",
      "        1    0.000    0.000    0.000    0.000 <__array_function__ internals>:177(std)\n",
      "        1    0.000    0.000    0.000    0.000 fromnumeric.py:3483(std)\n",
      "        2    0.000    0.000    0.000    0.000 core.py:1809(_check_mask_axis)\n",
      "        1    0.000    0.000    0.000    0.000 _methods.py:262(_std)\n",
      "        7    0.000    0.000    0.000    0.000 {method 'any' of 'numpy.ndarray' objects}\n",
      "        2    0.000    0.000    0.000    0.000 {method 'all' of 'numpy.ndarray' objects}\n",
      "        1    0.000    0.000    0.000    0.000 numeric.py:2340(within_tol)\n",
      "        3    0.000    0.000    0.000    0.000 <__array_function__ internals>:177(column_stack)\n",
      "        3    0.000    0.000    0.000    0.000 <__array_function__ internals>:177(flatnonzero)\n",
      "        1    0.000    0.000    0.000    0.000 _methods.py:195(_var)\n",
      "        1    0.000    0.000    0.000    0.000 <__array_function__ internals>:177(vander)\n",
      "       11    0.000    0.000    0.000    0.000 {method 'argmax' of 'numpy.ndarray' objects}\n",
      "       11    0.000    0.000    0.000    0.000 <__array_function__ internals>:177(atleast_1d)\n",
      "        1    0.000    0.000    0.000    0.000 core.py:3065(__array_wrap__)\n",
      "        3    0.000    0.000    0.000    0.000 numeric.py:625(flatnonzero)\n",
      "        1    0.000    0.000    0.000    0.000 twodim_base.py:540(vander)\n",
      "       21    0.000    0.000    0.000    0.000 <__array_function__ internals>:177(shape)\n",
      "       58    0.000    0.000    0.000    0.000 type_check.py:303(iscomplexobj)\n",
      "        2    0.000    0.000    0.000    0.000 posixpath.py:71(join)\n",
      "        1    0.000    0.000    0.000    0.000 canvas_part.py:590(coords_offset)\n",
      "        5    0.000    0.000    0.000    0.000 <__array_function__ internals>:177(reshape)\n",
      "        3    0.000    0.000    0.000    0.000 shape_base.py:612(column_stack)\n",
      "       46    0.000    0.000    0.000    0.000 {built-in method numpy.seterrobj}\n",
      "       96    0.000    0.000    0.000    0.000 {method 'update' of 'dict' objects}\n",
      "        5    0.000    0.000    0.000    0.000 core.py:1637(make_mask_none)\n",
      "        5    0.000    0.000    0.000    0.000 fromnumeric.py:198(reshape)\n",
      "        5    0.000    0.000    0.000    0.000 {built-in method builtins.all}\n",
      "        1    0.000    0.000    0.000    0.000 tokenize.py:325(find_cookie)\n",
      "        3    0.000    0.000    0.000    0.000 <__array_function__ internals>:177(nonzero)\n",
      "       12    0.000    0.000    0.000    0.000 getlimits.py:457(__new__)\n",
      "        1    0.000    0.000    0.000    0.000 core.py:3337(__setitem__)\n",
      "        6    0.000    0.000    0.000    0.000 core.py:426(_check_fill_value)\n",
      "        6    0.000    0.000    0.000    0.000 core.py:664(getdata)\n",
      "        2    0.000    0.000    0.000    0.000 posixpath.py:100(split)\n",
      "       11    0.000    0.000    0.000    0.000 shape_base.py:23(atleast_1d)\n",
      "       92    0.000    0.000    0.000    0.000 {built-in method numpy.geterrobj}\n",
      "        1    0.000    0.000    0.000    0.000 core.py:3121(view)\n",
      "        1    0.000    0.000    0.000    0.000 core.py:1548(make_mask)\n",
      "        3    0.000    0.000    0.000    0.000 codecs.py:319(decode)\n",
      "        6    0.000    0.000    0.000    0.000 core.py:1322(make_mask_descr)\n",
      "        3    0.000    0.000    0.000    0.000 fromnumeric.py:1866(nonzero)\n",
      "        1    0.000    0.000    0.000    0.000 <__array_function__ internals>:177(hstack)\n",
      "        1    0.000    0.000    0.000    0.000 {method 'accumulate' of 'numpy.ufunc' objects}\n",
      "       33    0.000    0.000    0.000    0.000 core.py:3407(dtype)\n",
      "        3    0.000    0.000    0.000    0.000 core.py:637(get_masked_subclass)\n",
      "        1    0.000    0.000    0.000    0.000 threading.py:1071(is_alive)\n",
      "       17    0.000    0.000    0.000    0.000 core.py:3639(_get_data)\n",
      "        6    0.000    0.000    0.000    0.000 core.py:1308(_replace_dtype_fields)\n",
      "        1    0.000    0.000    0.000    0.000 core.py:1538(_shrink_mask)\n",
      "       10    0.000    0.000    0.000    0.000 {method 'view' of 'numpy.generic' objects}\n",
      "        1    0.000    0.000    0.000    0.000 shape_base.py:285(hstack)\n",
      "        2    0.000    0.000    0.000    0.000 {method 'match' of 're.Pattern' objects}\n",
      "        2    0.000    0.000    0.000    0.000 core.py:1417(getmaskarray)\n",
      "       10    0.000    0.000    0.000    0.000 shape_base.py:1243(<genexpr>)\n",
      "       25    0.000    0.000    0.000    0.000 core.py:1355(getmask)\n",
      "        1    0.000    0.000    0.000    0.000 fractal_dim.py:4(max_box_size)\n",
      "        1    0.000    0.000    0.000    0.000 transitions.py:39(merge_similar_transitions)\n",
      "       22    0.000    0.000    0.000    0.000 _ufunc_config.py:425(__init__)\n",
      "        3    0.000    0.000    0.000    0.000 <__array_function__ internals>:177(ravel)\n",
      "        1    0.000    0.000    0.000    0.000 extras.py:776(replace_masked)\n",
      "       58    0.000    0.000    0.000    0.000 function_base.py:1428(_interp_dispatcher)\n",
      "        1    0.000    0.000    0.000    0.000 <__array_function__ internals>:177(can_cast)\n",
      "        1    0.000    0.000    0.000    0.000 getlimits.py:562(tiny)\n",
      "        1    0.000    0.000    0.000    0.000 codecs.py:309(__init__)\n",
      "        3    0.000    0.000    0.000    0.000 {method 'nonzero' of 'numpy.ndarray' objects}\n",
      "       19    0.000    0.000    0.000    0.000 core.py:3423(shape)\n",
      "        1    0.000    0.000    0.000    0.000 getlimits.py:539(smallest_normal)\n",
      "       10    0.000    0.000    0.000    0.000 shape_base.py:1253(<genexpr>)\n",
      "        1    0.000    0.000    0.000    0.000 warnings.py:403(__init__)\n",
      "       58    0.000    0.000    0.000    0.000 type_check.py:206(_is_type_dispatcher)\n",
      "        1    0.000    0.000    0.000    0.000 core.py:6569(is_masked)\n",
      "       21    0.000    0.000    0.000    0.000 fromnumeric.py:1965(shape)\n",
      "        1    0.000    0.000    0.000    0.000 linalg.py:135(_commonType)\n",
      "        1    0.000    0.000    0.000    0.000 core.py:3710(fill_value)\n",
      "        1    0.000    0.000    0.000    0.000 iostream.py:429(_is_master_process)\n",
      "        6    0.000    0.000    0.000    0.000 core.py:1276(_replace_dtype_fields_recursive)\n",
      "        4    0.000    0.000    0.000    0.000 posixpath.py:41(_get_sep)\n",
      "        3    0.000    0.000    0.000    0.000 fromnumeric.py:1755(ravel)\n",
      "        3    0.000    0.000    0.000    0.000 core.py:7145(reshape)\n",
      "        3    0.000    0.000    0.000    0.000 {method 'startswith' of 'str' objects}\n",
      "        3    0.000    0.000    0.000    0.000 canvas_part.py:567(out_name)\n",
      "        1    0.000    0.000    0.000    0.000 iostream.py:90(_event_pipe)\n",
      "        3    0.000    0.000    0.000    0.000 shape_base.py:608(_column_stack_dispatcher)\n",
      "        1    0.000    0.000    0.000    0.000 threading.py:1017(_wait_for_tstate_lock)\n",
      "        2    0.000    0.000    0.000    0.000 {built-in method builtins.abs}\n",
      "        1    0.000    0.000    0.000    0.000 {method 'startswith' of 'bytes' objects}\n",
      "        1    0.000    0.000    0.000    0.000 <__array_function__ internals>:177(result_type)\n",
      "        1    0.000    0.000    0.000    0.000 core.py:580(filled)\n",
      "        2    0.000    0.000    0.000    0.000 core.py:4030(_delegate_binop)\n",
      "        4    0.000    0.000    0.000    0.000 shape_base.py:207(_arrays_for_stack_dispatcher)\n",
      "        3    0.000    0.000    0.000    0.000 {built-in method _codecs.utf_8_decode}\n",
      "       21    0.000    0.000    0.000    0.000 fromnumeric.py:1961(_shape_dispatcher)\n",
      "       15    0.000    0.000    0.000    0.000 fromnumeric.py:432(_repeat_dispatcher)\n",
      "        1    0.000    0.000    0.000    0.000 {method 'strip' of 'str' objects}\n",
      "        2    0.000    0.000    0.000    0.000 {built-in method builtins.min}\n",
      "        1    0.000    0.000    0.000    0.000 {method 'decode' of 'bytes' objects}\n",
      "        1    0.000    0.000    0.000    0.000 {built-in method builtins.round}\n",
      "        2    0.000    0.000    0.000    0.000 linalg.py:111(_makearray)\n",
      "        3    0.000    0.000    0.000    0.000 core.py:651(<listcomp>)\n",
      "        3    0.000    0.000    0.000    0.000 canvas_part_statistics.py:426(keep_all_basics)\n",
      "       10    0.000    0.000    0.000    0.000 optimize.py:145(_check_unknown_options)\n",
      "       10    0.000    0.000    0.000    0.000 {method 'pop' of 'dict' objects}\n",
      "        3    0.000    0.000    0.000    0.000 core.py:776(is_string_or_list_of_strings)\n",
      "        3    0.000    0.000    0.000    0.000 core.py:3225(_is_scalar)\n",
      "        1    0.000    0.000    0.000    0.000 codecs.py:260(__init__)\n",
      "        1    0.000    0.000    0.000    0.000 {method 'acquire' of '_thread.lock' objects}\n",
      "       11    0.000    0.000    0.000    0.000 fromnumeric.py:1123(_argmax_dispatcher)\n",
      "        1    0.000    0.000    0.000    0.000 {method 'seek' of '_io.BufferedReader' objects}\n",
      "        2    0.000    0.000    0.000    0.000 {method 'rfind' of 'str' objects}\n",
      "        3    0.000    0.000    0.000    0.000 {method 'endswith' of 'str' objects}\n",
      "        5    0.000    0.000    0.000    0.000 shape_base.py:1167(_tile_dispatcher)\n",
      "       11    0.000    0.000    0.000    0.000 shape_base.py:19(_atleast_1d_dispatcher)\n",
      "       10    0.000    0.000    0.000    0.000 fromnumeric.py:2670(_amax_dispatcher)\n",
      "        2    0.000    0.000    0.000    0.000 {method 'rstrip' of 'str' objects}\n",
      "        4    0.000    0.000    0.000    0.000 {built-in method posix.fspath}\n",
      "        1    0.000    0.000    0.000    0.000 {built-in method numpy.promote_types}\n",
      "        3    0.000    0.000    0.000    0.000 core.py:7959(asanyarray)\n",
      "        3    0.000    0.000    0.000    0.000 linalg.py:129(_realType)\n",
      "        3    0.000    0.000    0.000    0.000 linalg.py:116(isComplexType)\n",
      "        1    0.000    0.000    0.000    0.000 core.py:3083(<listcomp>)\n",
      "        1    0.000    0.000    0.000    0.000 {built-in method posix.getpid}\n",
      "        1    0.000    0.000    0.000    0.000 {built-in method _functools.reduce}\n",
      "        2    0.000    0.000    0.000    0.000 {method '__array_prepare__' of 'numpy.ndarray' objects}\n",
      "        1    0.000    0.000    0.000    0.000 {method 'write' of '_io.StringIO' objects}\n",
      "        1    0.000    0.000    0.000    0.000 shape_base.py:218(_vhstack_dispatcher)\n",
      "        1    0.000    0.000    0.000    0.000 linalg.py:106(get_linalg_error_extobj)\n",
      "        1    0.000    0.000    0.000    0.000 {method 'append' of 'collections.deque' objects}\n",
      "        1    0.000    0.000    0.000    0.000 {method 'disable' of '_lsprof.Profiler' objects}\n",
      "        1    0.000    0.000    0.000    0.000 core.py:3506(mask)\n",
      "        5    0.000    0.000    0.000    0.000 fromnumeric.py:193(_reshape_dispatcher)\n",
      "        1    0.000    0.000    0.000    0.000 linalg.py:187(_assert_2d)\n",
      "        3    0.000    0.000    0.000    0.000 fromnumeric.py:1862(_nonzero_dispatcher)\n",
      "        1    0.000    0.000    0.000    0.000 threading.py:513(is_set)\n",
      "        3    0.000    0.000    0.000    0.000 numeric.py:621(_flatnonzero_dispatcher)\n",
      "        1    0.000    0.000    0.000    0.000 polynomial.py:448(_polyfit_dispatcher)\n",
      "        3    0.000    0.000    0.000    0.000 fromnumeric.py:1751(_ravel_dispatcher)\n",
      "        1    0.000    0.000    0.000    0.000 twodim_base.py:535(_vander_dispatcher)\n",
      "        1    0.000    0.000    0.000    0.000 linalg.py:2153(_lstsq_dispatcher)\n",
      "        1    0.000    0.000    0.000    0.000 numeric.py:2255(_isclose_dispatcher)\n",
      "        1    0.000    0.000    0.000    0.000 fromnumeric.py:3478(_std_dispatcher)\n",
      "        1    0.000    0.000    0.000    0.000 multiarray.py:498(can_cast)\n",
      "        1    0.000    0.000    0.000    0.000 multiarray.py:664(result_type)\n",
      "\n",
      "\n"
     ]
    }
   ],
   "source": [
    "util.check_time('''canvas_part_stat = cpst.CanvasPartStatistics(canvas_comp,\n",
    "                                             t_interval=300,\n",
    "                                             tmax=var.TIME_TOTAL,\n",
    "                                             compute_vars={'stability': 1, 'entropy': 2, \n",
    "                                                           'transitions': 1, 'attackdefense': 1, 'other':1},\n",
    "                                             sliding_window=14400,\n",
    "                                             returnt_binwidth=100,\n",
    "                                             trans_param=[0.3, 0.1, 7200, 14400],\n",
    "                                             timeunit=300,\n",
    "                                             dont_keep_dir=False, \n",
    "                                             compression='LZ77',\n",
    "                                             flattening='hilbert_pkg')''')"
   ]
  },
  {
   "cell_type": "code",
   "execution_count": 12,
   "metadata": {},
   "outputs": [
    {
     "name": "stdout",
     "output_type": "stream",
     "text": [
      "         3252058 function calls (3230935 primitive calls) in 7.043 seconds\n",
      "\n",
      "   Ordered by: cumulative time\n",
      "\n",
      "   ncalls  tottime  percall  cumtime  percall filename:lineno(function)\n",
      "        1    0.000    0.000    7.043    7.043 {built-in method builtins.exec}\n",
      "        1    0.000    0.000    7.043    7.043 <string>:1(<module>)\n",
      "        1    0.000    0.000    7.043    7.043 canvas_part_statistics.py:263(__init__)\n",
      "        1    0.437    0.437    6.743    6.743 compute_variables.py:215(main_variables)\n",
      "411612/390492    1.838    0.000    4.425    0.000 {built-in method numpy.core._multiarray_umath.implement_array_function}\n",
      "        1    0.000    0.000    3.838    3.838 fractal_dim.py:174(calc_from_image)\n",
      "        1    0.832    0.832    3.444    3.444 fractal_dim.py:70(count_num_box_touch)\n",
      "   196627    0.072    0.000    1.823    0.000 <__array_function__ internals>:177(where)\n",
      "   166493    0.054    0.000    1.162    0.000 <__array_function__ internals>:177(unique)\n",
      "   166493    0.107    0.000    1.028    0.000 arraysetops.py:138(unique)\n",
      "   166493    0.551    0.000    0.865    0.000 arraysetops.py:320(_unique1d)\n",
      "     2052    0.003    0.000    0.669    0.000 compute_variables.py:178(calc_stable_cols)\n",
      "     2053    0.002    0.000    0.646    0.000 <__array_function__ internals>:177(argsort)\n",
      "     5093    0.002    0.000    0.644    0.000 fromnumeric.py:51(_wrapfunc)\n",
      "     2053    0.002    0.000    0.643    0.000 fromnumeric.py:1012(argsort)\n",
      "     2054    0.638    0.000    0.638    0.000 {method 'argsort' of 'numpy.ndarray' objects}\n",
      "     1002    0.201    0.000    0.580    0.001 compute_variables.py:197(calc_stable_timefrac)\n",
      "     1002    0.437    0.000    0.472    0.000 compute_variables.py:105(calc_time_spent_in_color)\n",
      "   169499    0.406    0.000    0.406    0.000 {method 'sort' of 'numpy.ndarray' objects}\n",
      "        1    0.088    0.088    0.387    0.387 fractal_dim.py:125(get_dom_colors)\n",
      "     1004    0.001    0.000    0.379    0.000 <__array_function__ internals>:177(take_along_axis)\n",
      "     1004    0.361    0.000    0.377    0.000 shape_base.py:56(take_along_axis)\n",
      "        1    0.012    0.012    0.298    0.298 canvas_part_statistics.py:461(returntime_stats)\n",
      "     1002    0.013    0.000    0.251    0.000 compute_variables.py:162(calc_stability)\n",
      "     2004    0.001    0.000    0.234    0.000 <__array_function__ internals>:177(intersect1d)\n",
      "     2004    0.035    0.000    0.231    0.000 arraysetops.py:369(intersect1d)\n",
      "     2006    0.003    0.000    0.145    0.000 function_base.py:3651(_ureduce)\n",
      "     1002    0.051    0.000    0.121    0.000 canvas_part.py:548(intimerange_pixchanges_inds)\n",
      "     1002    0.000    0.000    0.119    0.000 <__array_function__ internals>:177(percentile)\n",
      "     1002    0.003    0.000    0.117    0.000 function_base.py:3861(percentile)\n",
      "     1002    0.102    0.000    0.117    0.000 compute_variables.py:146(cumulative_attack_timefrac)\n",
      "     1002    0.001    0.000    0.106    0.000 <__array_function__ internals>:177(histogram)\n",
      "     1002    0.005    0.000    0.104    0.000 histograms.py:678(histogram)\n",
      "7063/7061    0.103    0.000    0.103    0.000 {built-in method numpy.array}\n",
      "     1002    0.001    0.000    0.098    0.000 function_base.py:4375(_quantile_unchecked)\n",
      "   169510    0.096    0.000    0.096    0.000 {method 'flatten' of 'numpy.ndarray' objects}\n",
      "     1002    0.001    0.000    0.095    0.000 function_base.py:4527(_quantile_ureduce_func)\n",
      "     1002    0.008    0.000    0.093    0.000 function_base.py:4595(_quantile)\n",
      "     1002    0.018    0.000    0.077    0.000 compute_variables.py:561(num_changes_and_users)\n",
      "     1002    0.000    0.000    0.075    0.000 <__array_function__ internals>:177(sort)\n",
      "     1002    0.001    0.000    0.074    0.000 fromnumeric.py:852(sort)\n",
      "     1002    0.003    0.000    0.065    0.000 entropy.py:22(calc_compressed_size)\n",
      "     1002    0.060    0.000    0.060    0.000 {built-in method zlib.compress}\n",
      "   169511    0.055    0.000    0.055    0.000 {built-in method numpy.empty}\n",
      "     1003    0.000    0.000    0.049    0.000 <__array_function__ internals>:177(median)\n",
      "     1003    0.001    0.000    0.048    0.000 function_base.py:3711(median)\n",
      "     1003    0.004    0.000    0.046    0.000 function_base.py:3801(_median)\n",
      "     1002    0.003    0.000    0.046    0.000 canvas_part.py:557(select_active_pixchanges_inds)\n",
      "   166493    0.033    0.000    0.043    0.000 arraysetops.py:125(_unpack_tuple)\n",
      "     2997    0.002    0.000    0.040    0.000 <__array_function__ internals>:177(mean)\n",
      "     2005    0.039    0.000    0.039    0.000 {method 'partition' of 'numpy.ndarray' objects}\n",
      "     2997    0.005    0.000    0.036    0.000 fromnumeric.py:3356(mean)\n",
      "     2997    0.009    0.000    0.031    0.000 _methods.py:162(_mean)\n",
      "    11097    0.028    0.000    0.028    0.000 {method 'reduce' of 'numpy.ufunc' objects}\n",
      "   354054    0.027    0.000    0.027    0.000 {built-in method numpy.asanyarray}\n",
      "     5078    0.007    0.000    0.025    0.000 fromnumeric.py:69(_wrapreduction)\n",
      "     2037    0.024    0.000    0.024    0.000 {built-in method numpy.zeros}\n",
      "   376294    0.024    0.000    0.024    0.000 {built-in method builtins.len}\n",
      "    12027    0.005    0.000    0.022    0.000 <__array_function__ internals>:177(count_nonzero)\n",
      "     1003    0.000    0.000    0.022    0.000 <__array_function__ internals>:177(partition)\n",
      "     1003    0.001    0.000    0.021    0.000 fromnumeric.py:667(partition)\n",
      "     2052    0.001    0.000    0.020    0.000 <__array_function__ internals>:177(flip)\n",
      "   196627    0.019    0.000    0.019    0.000 multiarray.py:341(where)\n",
      "     1002    0.008    0.000    0.018    0.000 function_base.py:4560(_get_indexes)\n",
      "     2052    0.007    0.000    0.018    0.000 function_base.py:252(flip)\n",
      "     3015    0.003    0.000    0.017    0.000 numeric.py:289(full)\n",
      "     1002    0.004    0.000    0.017    0.000 function_base.py:4396(_quantile_is_valid)\n",
      "     1004    0.007    0.000    0.016    0.000 shape_base.py:29(_make_along_axis_idx)\n",
      "   166493    0.015    0.000    0.015    0.000 arraysetops.py:133(_unique_dispatcher)\n",
      "     1008    0.002    0.000    0.014    0.000 canvas_part.py:611(white_image)\n",
      "     2071    0.001    0.000    0.013    0.000 <__array_function__ internals>:177(any)\n",
      "     2006    0.001    0.000    0.013    0.000 <__array_function__ internals>:177(all)\n",
      "     6028    0.005    0.000    0.013    0.000 numerictypes.py:356(issubdtype)\n",
      "     4016    0.002    0.000    0.012    0.000 <__array_function__ internals>:177(concatenate)\n",
      "    12027    0.003    0.000    0.011    0.000 numeric.py:425(count_nonzero)\n",
      "      991    0.001    0.000    0.011    0.000 <__array_function__ internals>:177(sum)\n",
      "     1003    0.003    0.000    0.011    0.000 compute_variables.py:86(initialize_start_time_grid)\n",
      "     3008    0.001    0.000    0.011    0.000 <__array_function__ internals>:177(copy)\n",
      "     1002    0.003    0.000    0.010    0.000 histograms.py:360(_get_bin_edges)\n",
      "     1002    0.010    0.000    0.010    0.000 function_base.py:4472(_lerp)\n",
      "     4008    0.003    0.000    0.010    0.000 {method 'any' of 'numpy.generic' objects}\n",
      "     2006    0.001    0.000    0.010    0.000 fromnumeric.py:2404(all)\n",
      "     2071    0.001    0.000    0.010    0.000 fromnumeric.py:2305(any)\n",
      "     4072    0.010    0.000    0.010    0.000 {built-in method numpy.arange}\n",
      "      991    0.002    0.000    0.010    0.000 fromnumeric.py:2160(sum)\n",
      "     3019    0.002    0.000    0.010    0.000 <__array_function__ internals>:177(copyto)\n",
      "     2053    0.006    0.000    0.009    0.000 numeric.py:1341(normalize_axis_tuple)\n",
      "     2998    0.008    0.000    0.008    0.000 _methods.py:66(_count_reduce_items)\n",
      "    12027    0.008    0.000    0.008    0.000 {built-in method numpy.core._multiarray_umath.count_nonzero}\n",
      "     3006    0.001    0.000    0.008    0.000 <__array_function__ internals>:177(take)\n",
      "     2008    0.008    0.000    0.008    0.000 canvas_part.py:598(width)\n",
      "     3008    0.001    0.000    0.008    0.000 function_base.py:846(copy)\n",
      "     1004    0.004    0.000    0.008    0.000 utils.py:1005(_median_nancheck)\n",
      "    12056    0.005    0.000    0.007    0.000 numerictypes.py:282(issubclass_)\n",
      "     4015    0.001    0.000    0.007    0.000 _methods.py:54(_any)\n",
      "     1002    0.005    0.000    0.007    0.000 canvas_part.py:518(active_coord_inds)\n",
      "     1002    0.001    0.000    0.006    0.000 histograms.py:454(_search_sorted_inclusive)\n",
      "     2006    0.002    0.000    0.006    0.000 {method 'all' of 'numpy.generic' objects}\n",
      "     1006    0.000    0.000    0.006    0.000 <__array_function__ internals>:177(diff)\n",
      "        1    0.002    0.002    0.005    0.005 fractal_dim.py:110(calc_fractal_dim)\n",
      "     3006    0.001    0.000    0.005    0.000 fromnumeric.py:93(take)\n",
      "     1006    0.004    0.000    0.004    0.000 function_base.py:1295(diff)\n",
      "     2008    0.000    0.000    0.004    0.000 _methods.py:60(_all)\n",
      "     4011    0.003    0.000    0.003    0.000 {method 'take' of 'numpy.ndarray' objects}\n",
      "    24151    0.003    0.000    0.003    0.000 {built-in method builtins.issubclass}\n",
      "     1002    0.003    0.000    0.003    0.000 {method 'format' of 'str' objects}\n",
      "     6015    0.003    0.000    0.003    0.000 {built-in method builtins.max}\n",
      "     3011    0.003    0.000    0.003    0.000 {method 'astype' of 'numpy.ndarray' objects}\n",
      "     2004    0.003    0.000    0.003    0.000 {method 'searchsorted' of 'numpy.ndarray' objects}\n",
      "        1    0.000    0.000    0.003    0.003 <__array_function__ internals>:177(polyfit)\n",
      "        1    0.000    0.000    0.003    0.003 polynomial.py:452(polyfit)\n",
      "     1002    0.002    0.000    0.002    0.000 function_base.py:4450(_get_gamma)\n",
      "        1    0.000    0.000    0.002    0.002 <__array_function__ internals>:177(lstsq)\n",
      "        1    0.002    0.002    0.002    0.002 linalg.py:2157(lstsq)\n",
      "     2053    0.001    0.000    0.002    0.000 numeric.py:1391(<listcomp>)\n",
      "     5078    0.002    0.000    0.002    0.000 fromnumeric.py:70(<dictcomp>)\n",
      "     1002    0.002    0.000    0.002    0.000 function_base.py:110(<lambda>)\n",
      "     2026    0.002    0.000    0.002    0.000 {method 'reshape' of 'numpy.ndarray' objects}\n",
      "     2004    0.001    0.000    0.002    0.000 <__array_function__ internals>:177(ndim)\n",
      "     1006    0.002    0.000    0.002    0.000 {method 'copy' of 'numpy.ndarray' objects}\n",
      "     7105    0.002    0.000    0.002    0.000 {built-in method builtins.isinstance}\n",
      "        1    0.000    0.000    0.002    0.002 canvas_part.py:582(pixchanges_coords_offset)\n",
      "        1    0.000    0.000    0.002    0.002 fractal_dim.py:155(calc_fractal_dim_values)\n",
      "     7062    0.002    0.000    0.002    0.000 {built-in method numpy.core._multiarray_umath.normalize_axis_index}\n",
      "        1    0.001    0.001    0.001    0.001 canvas_part.py:577(pixchanges_coords)\n",
      "     8348    0.001    0.000    0.001    0.000 {built-in method builtins.getattr}\n",
      "        1    0.000    0.000    0.001    0.001 canvas_part_statistics.py:476(search_transitions)\n",
      "     5060    0.001    0.000    0.001    0.000 {built-in method builtins.hasattr}\n",
      "     5014    0.001    0.000    0.001    0.000 {method 'ravel' of 'numpy.ndarray' objects}\n",
      "     3084    0.001    0.000    0.001    0.000 {built-in method numpy.asarray}\n",
      "    12027    0.001    0.000    0.001    0.000 numeric.py:421(_count_nonzero_dispatcher)\n",
      "     2004    0.001    0.000    0.001    0.000 {method 'tobytes' of 'numpy.ndarray' objects}\n",
      "     1002    0.001    0.000    0.001    0.000 histograms.py:283(_ravel_and_check_weights)\n",
      "        1    0.000    0.000    0.001    0.001 transitions.py:137(transition_start_time)\n",
      "        1    0.000    0.000    0.001    0.001 extras.py:633(median)\n",
      "     1002    0.000    0.000    0.001    0.000 entropy.py:13(calc_size)\n",
      "        1    0.000    0.000    0.001    0.001 extras.py:715(_median)\n",
      "     3017    0.001    0.000    0.001    0.000 canvas_part.py:607(num_pix)\n",
      "       10    0.000    0.000    0.001    0.000 minpack.py:46(fsolve)\n",
      "        1    0.000    0.000    0.001    0.001 canvas_part_statistics.py:433(ratios_and_normalizations)\n",
      "       10    0.000    0.000    0.001    0.000 minpack.py:181(_root_hybr)\n",
      "     4104    0.001    0.000    0.001    0.000 index_tricks.py:758(__getitem__)\n",
      "     1003    0.001    0.000    0.001    0.000 {method 'ravel' of 'numpy.generic' objects}\n",
      "     5078    0.001    0.000    0.001    0.000 {method 'items' of 'dict' objects}\n",
      "       66    0.000    0.000    0.001    0.000 time_series.py:66(__init__)\n",
      "     4016    0.001    0.000    0.001    0.000 multiarray.py:148(concatenate)\n",
      "       66    0.000    0.000    0.001    0.000 time_series.py:104(exists)\n",
      "        5    0.000    0.000    0.001    0.000 fractal_dim.py:21(get_box_inds)\n",
      "       40    0.000    0.000    0.001    0.000 canvas_part_statistics.py:423(ts_init)\n",
      "       59    0.000    0.000    0.001    0.000 transitions.py:165(<lambda>)\n",
      "        1    0.000    0.000    0.001    0.001 core.py:6888(sort)\n",
      "       10    0.000    0.000    0.001    0.000 {built-in method scipy.optimize._minpack._hybrd}\n",
      "     4039    0.000    0.000    0.000    0.000 {method 'append' of 'list' objects}\n",
      "        1    0.000    0.000    0.000    0.000 core.py:5580(sort)\n",
      "       17    0.000    0.000    0.000    0.000 utilities.py:190(divide_treatzero)\n",
      "        3    0.000    0.000    0.000    0.000 core.py:6768(__call__)\n",
      "     2053    0.000    0.000    0.000    0.000 {built-in method _operator.index}\n",
      "     2997    0.000    0.000    0.000    0.000 fromnumeric.py:3351(_mean_dispatcher)\n",
      "     3019    0.000    0.000    0.000    0.000 multiarray.py:1071(copyto)\n",
      "     1004    0.000    0.000    0.000    0.000 core.py:6377(isMaskedArray)\n",
      "     3006    0.000    0.000    0.000    0.000 fromnumeric.py:89(_take_dispatcher)\n",
      "     3008    0.000    0.000    0.000    0.000 function_base.py:842(_copy_dispatcher)\n",
      "        1    0.000    0.000    0.000    0.000 core.py:5217(mean)\n",
      "     2053    0.000    0.000    0.000    0.000 fromnumeric.py:1008(_argsort_dispatcher)\n",
      "     2052    0.000    0.000    0.000    0.000 function_base.py:248(_flip_dispatcher)\n",
      "        3    0.000    0.000    0.000    0.000 core.py:3211(__getitem__)\n",
      "     2004    0.000    0.000    0.000    0.000 arraysetops.py:364(_intersect1d_dispatcher)\n",
      "     2071    0.000    0.000    0.000    0.000 fromnumeric.py:2300(_any_dispatcher)\n",
      "     2004    0.000    0.000    0.000    0.000 fromnumeric.py:3164(ndim)\n",
      "     2006    0.000    0.000    0.000    0.000 fromnumeric.py:2399(_all_dispatcher)\n",
      "        1    0.000    0.000    0.000    0.000 core.py:2073(masked_equal)\n",
      "        1    0.000    0.000    0.000    0.000 transitions.py:61(find_transitions)\n",
      "     2004    0.000    0.000    0.000    0.000 fromnumeric.py:3160(_ndim_dispatcher)\n",
      "        1    0.000    0.000    0.000    0.000 core.py:5414(argsort)\n",
      "       59    0.000    0.000    0.000    0.000 <__array_function__ internals>:177(interp)\n",
      "        2    0.000    0.000    0.000    0.000 utilities.py:165(make_dir)\n",
      "        2    0.000    0.000    0.000    0.000 os.py:198(makedirs)\n",
      "        2    0.000    0.000    0.000    0.000 core.py:5041(sum)\n",
      "       10    0.000    0.000    0.000    0.000 minpack.py:22(_check_func)\n",
      "     2022    0.000    0.000    0.000    0.000 {method 'get' of 'dict' objects}\n",
      "        5    0.000    0.000    0.000    0.000 <__array_function__ internals>:177(tile)\n",
      "        5    0.000    0.000    0.000    0.000 core.py:3733(filled)\n",
      "       59    0.000    0.000    0.000    0.000 function_base.py:1432(interp)\n",
      "        1    0.000    0.000    0.000    0.000 core.py:1821(masked_where)\n",
      "      991    0.000    0.000    0.000    0.000 fromnumeric.py:2155(_sum_dispatcher)\n",
      "       15    0.000    0.000    0.000    0.000 <__array_function__ internals>:177(repeat)\n",
      "     1004    0.000    0.000    0.000    0.000 shape_base.py:52(_take_along_axis_dispatcher)\n",
      "        5    0.000    0.000    0.000    0.000 shape_base.py:1171(tile)\n",
      "        2    0.000    0.000    0.000    0.000 genericpath.py:16(exists)\n",
      "        4    0.000    0.000    0.000    0.000 core.py:3435(__setmask__)\n",
      "        2    0.000    0.000    0.000    0.000 {built-in method posix.stat}\n",
      "       13    0.000    0.000    0.000    0.000 core.py:2972(__array_finalize__)\n",
      "       46    0.000    0.000    0.000    0.000 _ufunc_config.py:32(seterr)\n",
      "        2    0.000    0.000    0.000    0.000 core.py:1003(__call__)\n",
      "     1002    0.000    0.000    0.000    0.000 function_base.py:3856(_percentile_dispatcher)\n",
      "       15    0.000    0.000    0.000    0.000 fromnumeric.py:436(repeat)\n",
      "     1002    0.000    0.000    0.000    0.000 histograms.py:673(_histogram_dispatcher)\n",
      "        3    0.000    0.000    0.000    0.000 transitions.py:9(limits_sequence_of_true)\n",
      "     1003    0.000    0.000    0.000    0.000 function_base.py:3706(_median_dispatcher)\n",
      "     1003    0.000    0.000    0.000    0.000 fromnumeric.py:663(_partition_dispatcher)\n",
      "     1006    0.000    0.000    0.000    0.000 function_base.py:1291(_diff_dispatcher)\n",
      "        1    0.000    0.000    0.000    0.000 core.py:3516(mask)\n",
      "        5    0.000    0.000    0.000    0.000 {method 'sum' of 'numpy.ndarray' objects}\n",
      "     1002    0.000    0.000    0.000    0.000 function_base.py:111(<lambda>)\n",
      "     1002    0.000    0.000    0.000    0.000 fromnumeric.py:848(_sort_dispatcher)\n",
      "        5    0.000    0.000    0.000    0.000 _methods.py:46(_sum)\n",
      "    31/30    0.000    0.000    0.000    0.000 {method 'view' of 'numpy.ndarray' objects}\n",
      "       20    0.000    0.000    0.000    0.000 {method 'repeat' of 'numpy.ndarray' objects}\n",
      "       22    0.000    0.000    0.000    0.000 _ufunc_config.py:429(__enter__)\n",
      "        1    0.000    0.000    0.000    0.000 core.py:4192(__truediv__)\n",
      "        1    0.000    0.000    0.000    0.000 core.py:1150(__call__)\n",
      "        2    0.000    0.000    0.000    0.000 core.py:4443(count)\n",
      "       19    0.000    0.000    0.000    0.000 core.py:2946(_update_from)\n",
      "       10    0.000    0.000    0.000    0.000 <__array_function__ internals>:177(amax)\n",
      "       59    0.000    0.000    0.000    0.000 <__array_function__ internals>:177(iscomplexobj)\n",
      "       22    0.000    0.000    0.000    0.000 _ufunc_config.py:434(__exit__)\n",
      "       10    0.000    0.000    0.000    0.000 fromnumeric.py:2675(amax)\n",
      "        1    0.000    0.000    0.000    0.000 <__array_function__ internals>:177(isclose)\n",
      "        1    0.000    0.000    0.000    0.000 core.py:4168(__mul__)\n",
      "        1    0.000    0.000    0.000    0.000 numeric.py:2259(isclose)\n",
      "        1    0.000    0.000    0.000    0.000 core.py:5964(take)\n",
      "       46    0.000    0.000    0.000    0.000 _ufunc_config.py:131(geterr)\n",
      "       59    0.000    0.000    0.000    0.000 {built-in method numpy.core._multiarray_umath.interp}\n",
      "       11    0.000    0.000    0.000    0.000 <__array_function__ internals>:177(argmax)\n",
      "        1    0.000    0.000    0.000    0.000 <__array_function__ internals>:177(std)\n",
      "        2    0.000    0.000    0.000    0.000 {built-in method posix.mkdir}\n",
      "        1    0.000    0.000    0.000    0.000 fromnumeric.py:3483(std)\n",
      "       11    0.000    0.000    0.000    0.000 <__array_function__ internals>:177(atleast_1d)\n",
      "        3    0.000    0.000    0.000    0.000 <__array_function__ internals>:177(flatnonzero)\n",
      "        1    0.000    0.000    0.000    0.000 _methods.py:262(_std)\n",
      "        2    0.000    0.000    0.000    0.000 core.py:1809(_check_mask_axis)\n",
      "        1    0.000    0.000    0.000    0.000 canvas_part_statistics.py:414(checks_warnings)\n",
      "        7    0.000    0.000    0.000    0.000 {method 'any' of 'numpy.ndarray' objects}\n",
      "        3    0.000    0.000    0.000    0.000 numeric.py:625(flatnonzero)\n",
      "        3    0.000    0.000    0.000    0.000 <__array_function__ internals>:177(column_stack)\n",
      "        2    0.000    0.000    0.000    0.000 {method 'all' of 'numpy.ndarray' objects}\n",
      "        1    0.000    0.000    0.000    0.000 _methods.py:195(_var)\n",
      "       11    0.000    0.000    0.000    0.000 fromnumeric.py:1127(argmax)\n",
      "       59    0.000    0.000    0.000    0.000 type_check.py:303(iscomplexobj)\n",
      "       21    0.000    0.000    0.000    0.000 <__array_function__ internals>:177(shape)\n",
      "        1    0.000    0.000    0.000    0.000 numeric.py:2340(within_tol)\n",
      "        1    0.000    0.000    0.000    0.000 <__array_function__ internals>:177(vander)\n",
      "        1    0.000    0.000    0.000    0.000 core.py:3065(__array_wrap__)\n",
      "        1    0.000    0.000    0.000    0.000 twodim_base.py:540(vander)\n",
      "       11    0.000    0.000    0.000    0.000 shape_base.py:23(atleast_1d)\n",
      "        5    0.000    0.000    0.000    0.000 <__array_function__ internals>:177(reshape)\n",
      "        3    0.000    0.000    0.000    0.000 shape_base.py:612(column_stack)\n",
      "        1    0.000    0.000    0.000    0.000 core.py:842(__call__)\n",
      "        2    0.000    0.000    0.000    0.000 posixpath.py:71(join)\n",
      "        1    0.000    0.000    0.000    0.000 canvas_part.py:590(coords_offset)\n",
      "        1    0.000    0.000    0.000    0.000 <__array_function__ internals>:177(hstack)\n",
      "       46    0.000    0.000    0.000    0.000 {built-in method numpy.seterrobj}\n",
      "        3    0.000    0.000    0.000    0.000 <__array_function__ internals>:177(nonzero)\n",
      "       96    0.000    0.000    0.000    0.000 {method 'update' of 'dict' objects}\n",
      "        1    0.000    0.000    0.000    0.000 shape_base.py:285(hstack)\n",
      "        5    0.000    0.000    0.000    0.000 {built-in method builtins.all}\n",
      "        3    0.000    0.000    0.000    0.000 fromnumeric.py:1866(nonzero)\n",
      "        5    0.000    0.000    0.000    0.000 core.py:1637(make_mask_none)\n",
      "       11    0.000    0.000    0.000    0.000 getlimits.py:457(__new__)\n",
      "        1    0.000    0.000    0.000    0.000 core.py:3337(__setitem__)\n",
      "        6    0.000    0.000    0.000    0.000 core.py:664(getdata)\n",
      "        6    0.000    0.000    0.000    0.000 core.py:426(_check_fill_value)\n",
      "       92    0.000    0.000    0.000    0.000 {built-in method numpy.geterrobj}\n",
      "        5    0.000    0.000    0.000    0.000 fromnumeric.py:198(reshape)\n",
      "        2    0.000    0.000    0.000    0.000 posixpath.py:100(split)\n",
      "        1    0.000    0.000    0.000    0.000 core.py:3121(view)\n",
      "        6    0.000    0.000    0.000    0.000 core.py:1322(make_mask_descr)\n",
      "       11    0.000    0.000    0.000    0.000 {method 'argmax' of 'numpy.ndarray' objects}\n",
      "        3    0.000    0.000    0.000    0.000 core.py:637(get_masked_subclass)\n",
      "        1    0.000    0.000    0.000    0.000 core.py:1548(make_mask)\n",
      "       33    0.000    0.000    0.000    0.000 core.py:3407(dtype)\n",
      "        1    0.000    0.000    0.000    0.000 core.py:1538(_shrink_mask)\n",
      "        3    0.000    0.000    0.000    0.000 {method 'nonzero' of 'numpy.ndarray' objects}\n",
      "       17    0.000    0.000    0.000    0.000 core.py:3639(_get_data)\n",
      "       10    0.000    0.000    0.000    0.000 {method 'view' of 'numpy.generic' objects}\n",
      "        6    0.000    0.000    0.000    0.000 core.py:1308(_replace_dtype_fields)\n",
      "        1    0.000    0.000    0.000    0.000 {method 'accumulate' of 'numpy.ufunc' objects}\n",
      "       10    0.000    0.000    0.000    0.000 shape_base.py:1243(<genexpr>)\n",
      "        3    0.000    0.000    0.000    0.000 <__array_function__ internals>:177(ravel)\n",
      "       22    0.000    0.000    0.000    0.000 _ufunc_config.py:425(__init__)\n",
      "        1    0.000    0.000    0.000    0.000 fractal_dim.py:4(max_box_size)\n",
      "       25    0.000    0.000    0.000    0.000 core.py:1355(getmask)\n",
      "        2    0.000    0.000    0.000    0.000 core.py:1417(getmaskarray)\n",
      "        4    0.000    0.000    0.000    0.000 {built-in method math.ceil}\n",
      "       59    0.000    0.000    0.000    0.000 function_base.py:1428(_interp_dispatcher)\n",
      "        3    0.000    0.000    0.000    0.000 shape_base.py:608(_column_stack_dispatcher)\n",
      "        1    0.000    0.000    0.000    0.000 extras.py:776(replace_masked)\n",
      "       10    0.000    0.000    0.000    0.000 shape_base.py:1253(<genexpr>)\n",
      "        1    0.000    0.000    0.000    0.000 transitions.py:39(merge_similar_transitions)\n",
      "       19    0.000    0.000    0.000    0.000 core.py:3423(shape)\n",
      "       59    0.000    0.000    0.000    0.000 type_check.py:206(_is_type_dispatcher)\n",
      "        1    0.000    0.000    0.000    0.000 linalg.py:135(_commonType)\n",
      "        1    0.000    0.000    0.000    0.000 core.py:6569(is_masked)\n",
      "       21    0.000    0.000    0.000    0.000 fromnumeric.py:1965(shape)\n",
      "        3    0.000    0.000    0.000    0.000 fromnumeric.py:1755(ravel)\n",
      "        1    0.000    0.000    0.000    0.000 core.py:3710(fill_value)\n",
      "        1    0.000    0.000    0.000    0.000 <__array_function__ internals>:177(can_cast)\n",
      "        3    0.000    0.000    0.000    0.000 core.py:7145(reshape)\n",
      "        6    0.000    0.000    0.000    0.000 core.py:1276(_replace_dtype_fields_recursive)\n",
      "        2    0.000    0.000    0.000    0.000 canvas_part.py:633(minimum_time)\n",
      "        3    0.000    0.000    0.000    0.000 canvas_part.py:567(out_name)\n",
      "        4    0.000    0.000    0.000    0.000 posixpath.py:41(_get_sep)\n",
      "       15    0.000    0.000    0.000    0.000 fromnumeric.py:432(_repeat_dispatcher)\n",
      "        1    0.000    0.000    0.000    0.000 core.py:580(filled)\n",
      "        2    0.000    0.000    0.000    0.000 core.py:4030(_delegate_binop)\n",
      "        4    0.000    0.000    0.000    0.000 shape_base.py:207(_arrays_for_stack_dispatcher)\n",
      "        1    0.000    0.000    0.000    0.000 <__array_function__ internals>:177(result_type)\n",
      "        2    0.000    0.000    0.000    0.000 linalg.py:111(_makearray)\n",
      "        2    0.000    0.000    0.000    0.000 {built-in method builtins.abs}\n",
      "        3    0.000    0.000    0.000    0.000 canvas_part.py:626(set_quarters_coord_inds)\n",
      "       21    0.000    0.000    0.000    0.000 fromnumeric.py:1961(_shape_dispatcher)\n",
      "       10    0.000    0.000    0.000    0.000 {method 'pop' of 'dict' objects}\n",
      "        2    0.000    0.000    0.000    0.000 {method 'startswith' of 'str' objects}\n",
      "        3    0.000    0.000    0.000    0.000 core.py:651(<listcomp>)\n",
      "        3    0.000    0.000    0.000    0.000 canvas_part_statistics.py:426(keep_all_basics)\n",
      "        1    0.000    0.000    0.000    0.000 {built-in method builtins.round}\n",
      "        2    0.000    0.000    0.000    0.000 {built-in method builtins.min}\n",
      "        3    0.000    0.000    0.000    0.000 core.py:776(is_string_or_list_of_strings)\n",
      "       10    0.000    0.000    0.000    0.000 optimize.py:145(_check_unknown_options)\n",
      "       11    0.000    0.000    0.000    0.000 fromnumeric.py:1123(_argmax_dispatcher)\n",
      "        1    0.000    0.000    0.000    0.000 linalg.py:106(get_linalg_error_extobj)\n",
      "       10    0.000    0.000    0.000    0.000 fromnumeric.py:2670(_amax_dispatcher)\n",
      "        3    0.000    0.000    0.000    0.000 core.py:3225(_is_scalar)\n",
      "        1    0.000    0.000    0.000    0.000 {built-in method numpy.promote_types}\n",
      "        2    0.000    0.000    0.000    0.000 {method 'rfind' of 'str' objects}\n",
      "        3    0.000    0.000    0.000    0.000 linalg.py:129(_realType)\n",
      "        1    0.000    0.000    0.000    0.000 core.py:3083(<listcomp>)\n",
      "        3    0.000    0.000    0.000    0.000 core.py:7959(asanyarray)\n",
      "        2    0.000    0.000    0.000    0.000 {method 'rstrip' of 'str' objects}\n",
      "       11    0.000    0.000    0.000    0.000 shape_base.py:19(_atleast_1d_dispatcher)\n",
      "        3    0.000    0.000    0.000    0.000 linalg.py:116(isComplexType)\n",
      "        1    0.000    0.000    0.000    0.000 linalg.py:187(_assert_2d)\n",
      "        1    0.000    0.000    0.000    0.000 {method 'disable' of '_lsprof.Profiler' objects}\n",
      "        5    0.000    0.000    0.000    0.000 shape_base.py:1167(_tile_dispatcher)\n",
      "        4    0.000    0.000    0.000    0.000 {built-in method posix.fspath}\n",
      "        1    0.000    0.000    0.000    0.000 shape_base.py:218(_vhstack_dispatcher)\n",
      "        5    0.000    0.000    0.000    0.000 fromnumeric.py:193(_reshape_dispatcher)\n",
      "        1    0.000    0.000    0.000    0.000 {built-in method _functools.reduce}\n",
      "        2    0.000    0.000    0.000    0.000 {method '__array_prepare__' of 'numpy.ndarray' objects}\n",
      "        1    0.000    0.000    0.000    0.000 core.py:3506(mask)\n",
      "        2    0.000    0.000    0.000    0.000 {method 'endswith' of 'str' objects}\n",
      "        3    0.000    0.000    0.000    0.000 fromnumeric.py:1862(_nonzero_dispatcher)\n",
      "        3    0.000    0.000    0.000    0.000 numeric.py:621(_flatnonzero_dispatcher)\n",
      "        3    0.000    0.000    0.000    0.000 fromnumeric.py:1751(_ravel_dispatcher)\n",
      "        1    0.000    0.000    0.000    0.000 fromnumeric.py:3478(_std_dispatcher)\n",
      "        1    0.000    0.000    0.000    0.000 polynomial.py:448(_polyfit_dispatcher)\n",
      "        1    0.000    0.000    0.000    0.000 linalg.py:2153(_lstsq_dispatcher)\n",
      "        1    0.000    0.000    0.000    0.000 twodim_base.py:535(_vander_dispatcher)\n",
      "        1    0.000    0.000    0.000    0.000 multiarray.py:498(can_cast)\n",
      "        1    0.000    0.000    0.000    0.000 numeric.py:2255(_isclose_dispatcher)\n",
      "        1    0.000    0.000    0.000    0.000 multiarray.py:664(result_type)\n",
      "\n",
      "\n"
     ]
    }
   ],
   "source": [
    "util.check_time('''canvas_part_stat = cpst.CanvasPartStatistics(canvas_comp,\n",
    "                                             t_interval=300,\n",
    "                                             tmax=var.TIME_TOTAL,\n",
    "                                             compute_vars={'stability': 1, 'entropy': 2, \n",
    "                                                           'transitions': 1, 'attackdefense': 1, 'other':1},\n",
    "                                             sliding_window=14400,\n",
    "                                             returnt_binwidth=100,\n",
    "                                             trans_param=[0.3, 0.1, 7200, 14400],\n",
    "                                             timeunit=300,\n",
    "                                             dont_keep_dir=False, \n",
    "                                             compression='DEFLATE',\n",
    "                                             flattening='ravel')''')\n",
    "# 3.2?"
   ]
  },
  {
   "cell_type": "code",
   "execution_count": 13,
   "metadata": {},
   "outputs": [
    {
     "name": "stderr",
     "output_type": "stream",
     "text": [
      "/Users/annie/opt/anaconda3/envs/py38/lib/python3.8/site-packages/matplotlib/colors.py:715: RuntimeWarning: overflow encountered in multiply\n",
      "  xa *= self.N\n"
     ]
    },
    {
     "name": "stdout",
     "output_type": "stream",
     "text": [
      "Moviepy - Building video /Users/annie/Code/Repositories/r-place-emergence/rplacem/../figs/000006/VsTimeStab/Co_fps15.mp4.\n",
      "Moviepy - Writing video /Users/annie/Code/Repositories/r-place-emergence/rplacem/../figs/000006/VsTimeStab/Co_fps15.mp4\n",
      "\n"
     ]
    },
    {
     "name": "stderr",
     "output_type": "stream",
     "text": [
      "                                                                                \r"
     ]
    },
    {
     "name": "stdout",
     "output_type": "stream",
     "text": [
      "Moviepy - Done !\n",
      "Moviepy - video ready /Users/annie/Code/Repositories/r-place-emergence/rplacem/../figs/000006/VsTimeStab/Co_fps15.mp4\n",
      "Moviepy - Building video /Users/annie/Code/Repositories/r-place-emergence/rplacem/../figs/000006/VsTimeInst/Co_fps15.mp4.\n",
      "Moviepy - Writing video /Users/annie/Code/Repositories/r-place-emergence/rplacem/../figs/000006/VsTimeInst/Co_fps15.mp4\n",
      "\n"
     ]
    },
    {
     "name": "stderr",
     "output_type": "stream",
     "text": [
      "                                                                                \r"
     ]
    },
    {
     "name": "stdout",
     "output_type": "stream",
     "text": [
      "Moviepy - Done !\n",
      "Moviepy - video ready /Users/annie/Code/Repositories/r-place-emergence/rplacem/../figs/000006/VsTimeInst/Co_fps15.mp4\n",
      "Moviepy - Building video /Users/annie/Code/Repositories/r-place-emergence/rplacem/../figs/000006/attack_defense_ratio/Co_fps15.mp4.\n",
      "Moviepy - Writing video /Users/annie/Code/Repositories/r-place-emergence/rplacem/../figs/000006/attack_defense_ratio/Co_fps15.mp4\n",
      "\n"
     ]
    },
    {
     "name": "stderr",
     "output_type": "stream",
     "text": [
      "                                                                                \r"
     ]
    },
    {
     "name": "stdout",
     "output_type": "stream",
     "text": [
      "Moviepy - Done !\n",
      "Moviepy - video ready /Users/annie/Code/Repositories/r-place-emergence/rplacem/../figs/000006/attack_defense_ratio/Co_fps15.mp4\n",
      "Moviepy - Building video /Users/annie/Code/Repositories/r-place-emergence/rplacem/../figs/000006/attack_defense_Ising/Co_fps6.mp4.\n",
      "Moviepy - Writing video /Users/annie/Code/Repositories/r-place-emergence/rplacem/../figs/000006/attack_defense_Ising/Co_fps6.mp4\n",
      "\n"
     ]
    },
    {
     "name": "stderr",
     "output_type": "stream",
     "text": [
      "                                                                                "
     ]
    },
    {
     "name": "stdout",
     "output_type": "stream",
     "text": [
      "Moviepy - Done !\n",
      "Moviepy - video ready /Users/annie/Code/Repositories/r-place-emergence/rplacem/../figs/000006/attack_defense_Ising/Co_fps6.mp4\n"
     ]
    },
    {
     "name": "stderr",
     "output_type": "stream",
     "text": [
      "\r"
     ]
    }
   ],
   "source": [
    "canvas_part_stat = cpst.CanvasPartStatistics(canvas_comp,\n",
    "                                             t_interval=3000,\n",
    "                                             tmax=var.TIME_TOTAL,\n",
    "                                             compute_vars={'stability': 3, 'entropy': 3, \n",
    "                                                           'transitions': 3, 'attackdefense': 3, 'other': 3},\n",
    "                                             sliding_window=14400,\n",
    "                                             returnt_binwidth=100,\n",
    "                                             trans_param=[0.2, 0.05, 7200, 10800],\n",
    "                                             timeunit=300,\n",
    "                                             dont_keep_dir=False)"
   ]
  },
  {
   "cell_type": "markdown",
   "metadata": {},
   "source": [
    "### Get the pixel changes over time, plot, and save a movie of the frames\n",
    "\n",
    "Now, we can start to examine how the two CanvasPart objects change over time. "
   ]
  },
  {
   "cell_type": "markdown",
   "metadata": {},
   "source": [
    "First, let's plot the canvas_comp object for the specified time steps. You'll notice the plotting function returns a list of indices that allow us to quickly select the pixel change data at different time points inside the boundary. The time_inds_list_comp will come in handy for time-step calculations later on. "
   ]
  },
  {
   "cell_type": "code",
   "execution_count": 14,
   "metadata": {
    "scrolled": true
   },
   "outputs": [
    {
     "data": {
      "image/png": "[encoded data removed]",
      "text/plain": [
       "<Figure size 1000x300 with 110 Axes>"
      ]
     },
     "metadata": {},
     "output_type": "display_data"
    }
   ],
   "source": [
    "plot.show_canvas_part_over_time(canvas_part_stat.true_image, figsize = (10,3))"
   ]
  },
  {
   "cell_type": "markdown",
   "metadata": {},
   "source": [
    "We can do the same for the canvas_area object"
   ]
  },
  {
   "cell_type": "code",
   "execution_count": 15,
   "metadata": {},
   "outputs": [
    {
     "name": "stderr",
     "output_type": "stream",
     "text": [
      "/Users/annie/opt/anaconda3/envs/py38/lib/python3.8/site-packages/matplotlib/colors.py:715: RuntimeWarning: overflow encountered in multiply\n",
      "  xa *= self.N\n",
      "/Users/annie/Code/Repositories/r-place-emergence/rplacem/fractal_dim.py:117: RuntimeWarning: divide by zero encountered in log\n",
      "  log_num_box = np.log(num_boxes_rshp)\n"
     ]
    },
    {
     "name": "stdout",
     "output_type": "stream",
     "text": [
      "Moviepy - Building video /Users/annie/Code/Repositories/r-place-emergence/rplacem/../figs/rectangle_0.0_to_10.10/VsTimeStab/Co_fps15.mp4.\n",
      "Moviepy - Writing video /Users/annie/Code/Repositories/r-place-emergence/rplacem/../figs/rectangle_0.0_to_10.10/VsTimeStab/Co_fps15.mp4\n",
      "\n"
     ]
    },
    {
     "name": "stderr",
     "output_type": "stream",
     "text": [
      "                                                                                \r"
     ]
    },
    {
     "name": "stdout",
     "output_type": "stream",
     "text": [
      "Moviepy - Done !\n",
      "Moviepy - video ready /Users/annie/Code/Repositories/r-place-emergence/rplacem/../figs/rectangle_0.0_to_10.10/VsTimeStab/Co_fps15.mp4\n",
      "Moviepy - Building video /Users/annie/Code/Repositories/r-place-emergence/rplacem/../figs/rectangle_0.0_to_10.10/VsTimeInst/Co_fps15.mp4.\n",
      "Moviepy - Writing video /Users/annie/Code/Repositories/r-place-emergence/rplacem/../figs/rectangle_0.0_to_10.10/VsTimeInst/Co_fps15.mp4\n",
      "\n"
     ]
    },
    {
     "name": "stderr",
     "output_type": "stream",
     "text": [
      "                                                                                \r"
     ]
    },
    {
     "name": "stdout",
     "output_type": "stream",
     "text": [
      "Moviepy - Done !\n",
      "Moviepy - video ready /Users/annie/Code/Repositories/r-place-emergence/rplacem/../figs/rectangle_0.0_to_10.10/VsTimeInst/Co_fps15.mp4\n",
      "Moviepy - Building video /Users/annie/Code/Repositories/r-place-emergence/rplacem/../figs/rectangle_0.0_to_10.10/attack_defense_ratio/Co_fps15.mp4.\n",
      "Moviepy - Writing video /Users/annie/Code/Repositories/r-place-emergence/rplacem/../figs/rectangle_0.0_to_10.10/attack_defense_ratio/Co_fps15.mp4\n",
      "\n"
     ]
    },
    {
     "name": "stderr",
     "output_type": "stream",
     "text": [
      "                                                                                \r"
     ]
    },
    {
     "name": "stdout",
     "output_type": "stream",
     "text": [
      "Moviepy - Done !\n",
      "Moviepy - video ready /Users/annie/Code/Repositories/r-place-emergence/rplacem/../figs/rectangle_0.0_to_10.10/attack_defense_ratio/Co_fps15.mp4\n",
      "Moviepy - Building video /Users/annie/Code/Repositories/r-place-emergence/rplacem/../figs/rectangle_0.0_to_10.10/attack_defense_Ising/Co_fps6.mp4.\n",
      "Moviepy - Writing video /Users/annie/Code/Repositories/r-place-emergence/rplacem/../figs/rectangle_0.0_to_10.10/attack_defense_Ising/Co_fps6.mp4\n",
      "\n"
     ]
    },
    {
     "name": "stderr",
     "output_type": "stream",
     "text": [
      "                                                                                "
     ]
    },
    {
     "name": "stdout",
     "output_type": "stream",
     "text": [
      "Moviepy - Done !\n",
      "Moviepy - video ready /Users/annie/Code/Repositories/r-place-emergence/rplacem/../figs/rectangle_0.0_to_10.10/attack_defense_Ising/Co_fps6.mp4\n"
     ]
    },
    {
     "name": "stderr",
     "output_type": "stream",
     "text": [
      "\r"
     ]
    }
   ],
   "source": [
    "canvas_area_stat = cpst.CanvasPartStatistics(canvas_area,\n",
    "                                             t_interval=3000,\n",
    "                                             tmax=var.TIME_TOTAL,\n",
    "                                             compute_vars={'stability': 3, 'entropy': 3, \n",
    "                                                           'transitions': 3, 'attackdefense': 3, 'other': 3},\n",
    "                                             sliding_window=14400,\n",
    "                                             returnt_binwidth=100,\n",
    "                                             trans_param=[0.2, 0.05, 7200, 10800],\n",
    "                                             timeunit=300,\n",
    "                                             dont_keep_dir=False)"
   ]
  },
  {
   "cell_type": "code",
   "execution_count": 16,
   "metadata": {},
   "outputs": [
    {
     "data": {
      "image/png": "[encoded data removed]",
      "text/plain": [
       "<Figure size 1000x300 with 110 Axes>"
      ]
     },
     "metadata": {},
     "output_type": "display_data"
    }
   ],
   "source": [
    "plot.show_canvas_part_over_time(canvas_area_stat.true_image, figsize = (10,3))"
   ]
  },
  {
   "cell_type": "markdown",
   "metadata": {},
   "source": [
    "##### Save the frames as  movie"
   ]
  },
  {
   "cell_type": "code",
   "execution_count": 17,
   "metadata": {},
   "outputs": [],
   "source": [
    "image_path = os.path.join(os.getcwd(), 'figs', '000297','VsTimeStab')\n",
    "image_path_area = os.path.join(os.getcwd(), 'figs', 'rectangle_0.0_to_10.10','VsTimeStab')"
   ]
  },
  {
   "cell_type": "code",
   "execution_count": 18,
   "metadata": {},
   "outputs": [
    {
     "name": "stdout",
     "output_type": "stream",
     "text": [
      "Moviepy - Building video /Users/annie/Code/Repositories/r-place-emergence/figs/000297/VsTimeStab/Co_fps6.mov.\n",
      "Moviepy - Writing video /Users/annie/Code/Repositories/r-place-emergence/figs/000297/VsTimeStab/Co_fps6.mov\n",
      "\n"
     ]
    },
    {
     "name": "stderr",
     "output_type": "stream",
     "text": [
      "                                                                                "
     ]
    },
    {
     "name": "stdout",
     "output_type": "stream",
     "text": [
      "Moviepy - Done !\n",
      "Moviepy - video ready /Users/annie/Code/Repositories/r-place-emergence/figs/000297/VsTimeStab/Co_fps6.mov\n",
      "Moviepy - Building video /Users/annie/Code/Repositories/r-place-emergence/figs/rectangle_0.0_to_10.10/VsTimeStab/Co_fps6.mov.\n",
      "Moviepy - Writing video /Users/annie/Code/Repositories/r-place-emergence/figs/rectangle_0.0_to_10.10/VsTimeStab/Co_fps6.mov\n",
      "\n"
     ]
    },
    {
     "name": "stderr",
     "output_type": "stream",
     "text": [
      "                                                                                "
     ]
    },
    {
     "name": "stdout",
     "output_type": "stream",
     "text": [
      "Moviepy - Done !\n",
      "Moviepy - video ready /Users/annie/Code/Repositories/r-place-emergence/figs/rectangle_0.0_to_10.10/VsTimeStab/Co_fps6.mov\n"
     ]
    },
    {
     "name": "stderr",
     "output_type": "stream",
     "text": [
      "\r"
     ]
    }
   ],
   "source": [
    "util.save_movie(image_path, \n",
    "              movie_tool='moviepy',\n",
    "              fps=6,\n",
    "              codec='mpeg4',#'libx264',\n",
    "              video_type='mov')# 'mp4'\n",
    "\n",
    "util.save_movie(image_path_area, \n",
    "              movie_tool='moviepy',\n",
    "              fps=6,\n",
    "              codec='mpeg4',#'libx264',\n",
    "              video_type='mov')# 'mp4'"
   ]
  },
  {
   "cell_type": "markdown",
   "metadata": {},
   "source": [
    "# Plot"
   ]
  },
  {
   "cell_type": "code",
   "execution_count": 19,
   "metadata": {},
   "outputs": [
    {
     "data": {
      "image/png": "[encoded data removed]",
      "text/plain": [
       "<Figure size 640x480 with 1 Axes>"
      ]
     },
     "metadata": {},
     "output_type": "display_data"
    }
   ],
   "source": [
    "plt.plot(canvas_area_stat.t_lims, canvas_area_stat.instability_norm.val, label = 'canvas area')\n",
    "plt.plot(canvas_part_stat.t_lims, canvas_part_stat.instability_norm.val, label='canvas comp')\n",
    "sns.despine()\n",
    "plt.ylabel('normalized instability')\n",
    "plt.xlabel('time (s)')\n",
    "sns.despine()\n"
   ]
  },
  {
   "cell_type": "code",
   "execution_count": 20,
   "metadata": {},
   "outputs": [
    {
     "data": {
      "image/png": "[encoded data removed]",
      "text/plain": [
       "<Figure size 600x800 with 14 Axes>"
      ]
     },
     "metadata": {},
     "output_type": "display_data"
    }
   ],
   "source": [
    "canvas_part_stat.fill_timeseries_info()\n",
    "plot.cpstat_tseries(canvas_part_stat, figsize=(6,8), ncols=2, fontsize=7)"
   ]
  },
  {
   "cell_type": "markdown",
   "metadata": {},
   "source": [
    "Save"
   ]
  },
  {
   "cell_type": "code",
   "execution_count": 21,
   "metadata": {},
   "outputs": [],
   "source": [
    "# Open a file and save the object using pickle.dump()\n",
    "with open('canvas_comp_stat.pickle', 'wb') as f:\n",
    "    pickle.dump(canvas_part_stat, f)"
   ]
  },
  {
   "cell_type": "code",
   "execution_count": null,
   "metadata": {},
   "outputs": [],
   "source": []
  },
  {
   "cell_type": "code",
   "execution_count": null,
   "metadata": {},
   "outputs": [],
   "source": []
  }
 ],
 "metadata": {
  "kernelspec": {
   "display_name": "Python 3 (ipykernel)",
   "language": "python",
   "name": "python3"
  },
  "language_info": {
   "codemirror_mode": {
    "name": "ipython",
    "version": 3
   },
   "file_extension": ".py",
   "mimetype": "text/x-python",
   "name": "python",
   "nbconvert_exporter": "python",
   "pygments_lexer": "ipython3",
   "version": "3.8.13"
  }
 },
 "nbformat": 4,
 "nbformat_minor": 4
}
