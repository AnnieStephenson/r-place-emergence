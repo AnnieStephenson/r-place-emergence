{
 "cells": [
  {
   "cell_type": "code",
   "execution_count": 1,
   "id": "b5ecceee",
   "metadata": {},
   "outputs": [],
   "source": [
    "import numpy as np\n",
    "import rplacem.canvas_part as cp\n",
    "import rplacem.canvas_part_statistics as stat\n",
    "import rplacem.utilities as util\n",
    "import rplacem.variables_rplace2022 as var\n",
    "import matplotlib.pyplot as plt\n",
    "import sys\n",
    "import os\n",
    "import glob\n",
    "import json\n",
    "import seaborn as sns\n",
    "import pickle\n",
    "import timeit"
   ]
  },
  {
   "cell_type": "code",
   "execution_count": 8,
   "id": "600b3d15",
   "metadata": {},
   "outputs": [
    {
     "name": "stdout",
     "output_type": "stream",
     "text": [
      "9958\n"
     ]
    }
   ],
   "source": [
    "file_path = os.path.join(var.DATA_PATH, 'canvas_compositions_all.pickle')\n",
    "with open(file_path, 'rb') as f:\n",
    "    canvas_compositions_all = pickle.load(f)"
   ]
  },
  {
   "cell_type": "code",
   "execution_count": 3,
   "id": "3a691bb9",
   "metadata": {},
   "outputs": [
    {
     "name": "stdout",
     "output_type": "stream",
     "text": [
      "CanvasComp count: 1\n",
      "CanvasComp count: 2\n",
      "CanvasComp count: 3\n",
      "CanvasComp count: 4\n",
      "CanvasComp count: 5\n",
      "The loop time is : 7.812110541999999 s\n"
     ]
    }
   ],
   "source": [
    "num_canvas_comps = len(canvas_compositions_all)\n",
    "\n",
    "starttime = timeit.default_timer()\n",
    "canvas_comp_stat_list = []\n",
    "for i in range(num_canvas_comps):\n",
    "    print('CanvasComp count: ' + str(i+1))\n",
    "    canvas_comp_stat = stat.CanvasPartStatistics(canvas_compositions_all[i],\n",
    "                                                 n_tbins=750,\n",
    "                                                 n_tbins_trans=150,\n",
    "                                                 tmax=var.TIME_TOTAL,\n",
    "                                                 compute_vars={'stability': 1, \n",
    "                                                               'mean_stability': 1, \n",
    "                                                               'entropy' : 1, \n",
    "                                                               'transitions' : 1, \n",
    "                                                               'attackdefense' : 1},\n",
    "                                                trans_param=[8e-3, 2e-3, 14400, 10800],\n",
    "                                                timeunit=300, # 5 minutes\n",
    "                                                refimage_averaging_period=3600, # 1 hour\n",
    "                                                verbose=False,\n",
    "                                                renew=True,\n",
    "                                                dont_keep_dir=False)\n",
    "    if canvas_comp_stat.num_transitions>0:\n",
    "        canvas_comp_stat_list.append(canvas_comp_stat)\n",
    "print(\"The loop time is :\", timeit.default_timer() - starttime, \"s\")"
   ]
  },
  {
   "cell_type": "code",
   "execution_count": 6,
   "id": "9ef7a3bc",
   "metadata": {},
   "outputs": [],
   "source": [
    "file_path = os.path.join(var.DATA_PATH, 'canvas_composition_statistics_all_trans.pickle')\n",
    "with open(file_path, 'wb') as handle:\n",
    "    pickle.dump(canvas_comp_stat_list,\n",
    "                handle,\n",
    "                protocol=pickle.HIGHEST_PROTOCOL)"
   ]
  },
  {
   "cell_type": "code",
   "execution_count": 7,
   "id": "175b9c52",
   "metadata": {},
   "outputs": [],
   "source": [
    "with open(file_path, 'rb') as f:\n",
    "    canvas_parts = pickle.load(f)"
   ]
  }
 ],
 "metadata": {
  "kernelspec": {
   "display_name": "Python 3 (ipykernel)",
   "language": "python",
   "name": "python3"
  },
  "language_info": {
   "codemirror_mode": {
    "name": "ipython",
    "version": 3
   },
   "file_extension": ".py",
   "mimetype": "text/x-python",
   "name": "python",
   "nbconvert_exporter": "python",
   "pygments_lexer": "ipython3",
   "version": "3.8.13"
  }
 },
 "nbformat": 4,
 "nbformat_minor": 5
}
